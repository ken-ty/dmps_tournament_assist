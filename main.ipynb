{
  "nbformat": 4,
  "nbformat_minor": 0,
  "metadata": {
    "colab": {
      "name": "main.ipynb",
      "provenance": [],
      "collapsed_sections": [
        "848frebOTmOC"
      ],
      "authorship_tag": "ABX9TyPIlWb92NIXYMXVOxDRGTJL",
      "include_colab_link": true
    },
    "kernelspec": {
      "name": "python3",
      "display_name": "Python 3"
    }
  },
  "cells": [
    {
      "cell_type": "markdown",
      "metadata": {
        "id": "view-in-github",
        "colab_type": "text"
      },
      "source": [
        "<a href=\"https://colab.research.google.com/github/kentokura/dmps_tournament_assist/blob/master/main.ipynb\" target=\"_parent\"><img src=\"https://colab.research.google.com/assets/colab-badge.svg\" alt=\"Open In Colab\"/></a>"
      ]
    },
    {
      "cell_type": "markdown",
      "metadata": {
        "id": "848frebOTmOC",
        "colab_type": "text"
      },
      "source": [
        "# What's notebook?\n",
        "\n",
        "このノートは、アプリ「[DUEL MASTERS PLAY’S（デュエル・マスターズ プレイス）](https://tonamel.com/competition/hi9my)」の特殊レギュレーション大会を開催するにあたり、主催者が行わなければならない大量のデッキの確認を自動化してくれます。レギュレーションの対応は検討中です。<!-- BASIC+40, BASIC+60, ハイランダーに対応しています。 -->"
      ]
    },
    {
      "cell_type": "markdown",
      "metadata": {
        "id": "zf04buNly6mO",
        "colab_type": "text"
      },
      "source": [
        "## Tonamelについて\n",
        "\n",
        "[Tonamel](https://tonamel.com/)を使えば、誰でも簡単に大会を開催・運営できます。エントリーから大会終了までに必要な機能が揃っています。\n",
        "\n",
        "特に、主催者は参加者情報をcsv形式でダウンロードでき、デュエプレ公式ページからデッキURLを作成して申し込み時に入力してもらうことで、**参加者とそのデッキの情報をcsv形式で取得**することができます。\n"
      ]
    },
    {
      "cell_type": "markdown",
      "metadata": {
        "id": "X_YbLnAG0yJM",
        "colab_type": "text"
      },
      "source": [
        "## 大会ひな型\n",
        "---\n",
        "\n",
        "【デュエプレ　特殊レギュレーション大会】\n",
        "BASIC+60_β杯を開催します。\n",
        "以下の説明を読んで、応募してください。\n",
        "\n",
        "# BASIC+60とは？\n",
        "カードの各レアリティにポイントが割り振られています。 60ポイント以内に収まるようにデッキを構築し、対戦します。\n",
        "ポイントは、以下の通りです:\n",
        "- レア度 ... 1枚当たりのポイント\n",
        "- BASIC ... 0   p/1枚\n",
        "- C .......... 2   p/1枚\n",
        "- UC ........ 4   p/1枚\n",
        "- R........... 8   p/1枚\n",
        "- VR ........ 12 p/1枚\n",
        "- SR ........ 20 p/1枚\n",
        "\n",
        "また、一部カードはレア度変更してカウントいたします。\n",
        "- 調整カード名 ............ レア度の扱い\n",
        "- ジェノサイドワーム ...  BASIC → C\n",
        "- クエイクゲート .........  C → UC\n",
        "\n",
        "# デッキ提出\n",
        "デュエプレ公式サイト(https://dmps.takaratomy.co.jp/deckbuilder/create/)\n",
        "からデッキのURLを作成してください。\n",
        "エントリー時に提出します。\n",
        "\n",
        "# 賞金\n",
        "ないよ。\n",
        "\n",
        "# 注意事項\n",
        "\n",
        "参加される方は、以下を全て読んでください。\n",
        "\n",
        "・20:55までには主の配信(https://www.mirrativ.com/user/99939804)に参加してください。\n",
        "・開始時刻までに来ない場合やデッキの確認が取れない場合、\n",
        "　その他運営の進行を妨げると判断した場合には参加をキャンセルする場合があります。\n",
        "・勝敗について虚偽の報告がある場合、それを嘘だと判断する証拠がない場合は、\n",
        "　両者失格・キックする場合がございます。勝者は勝敗が確定時のスクリーンショットを\n",
        "　取っておくことをお勧めいたします。\n",
        "・デッキは後日公開させていただく場合がございます。あらかじめご了承ください。\n",
        "・参加をキャンセルされる場合は、なるべく早くご連絡お願いいたします\n",
        "\n",
        "---"
      ]
    },
    {
      "cell_type": "markdown",
      "metadata": {
        "id": "Ay0sWPku51jq",
        "colab_type": "text"
      },
      "source": [
        "# やりたいこと"
      ]
    },
    {
      "cell_type": "markdown",
      "metadata": {
        "id": "Kb2vKYnM54V1",
        "colab_type": "text"
      },
      "source": [
        "[Tonamel](https://tonamel.com/)からダウンロードできる参加者情報のcsvファイルを入力し、デッキ確認結果を出力する。\n"
      ]
    },
    {
      "cell_type": "markdown",
      "metadata": {
        "id": "vHg6o0Zu1Ucq",
        "colab_type": "text"
      },
      "source": [
        "# 処理(モックアップ)"
      ]
    },
    {
      "cell_type": "markdown",
      "metadata": {
        "id": "JMjVa4CC2ShQ",
        "colab_type": "text"
      },
      "source": [
        "## 準備"
      ]
    },
    {
      "cell_type": "markdown",
      "metadata": {
        "id": "s6HxCHar_aMb",
        "colab_type": "text"
      },
      "source": [
        "### [1] GDriveをマウントする。\n",
        "\n",
        "ここからカード情報のcsvを読み込む。\n",
        "\n"
      ]
    },
    {
      "cell_type": "code",
      "metadata": {
        "id": "kMCHJxAeuNho",
        "colab_type": "code",
        "outputId": "4913becd-9037-46f7-9a36-7d2baf40fdb1",
        "cellView": "code",
        "colab": {
          "base_uri": "https://localhost:8080/",
          "height": 128
        }
      },
      "source": [
        "# driveのマウント\n",
        "from google.colab import drive\n",
        "drive.mount('/content/gdrive')"
      ],
      "execution_count": 2,
      "outputs": [
        {
          "output_type": "stream",
          "text": [
            "Go to this URL in a browser: https://accounts.google.com/o/oauth2/auth?client_id=947318989803-6bn6qk8qdgf4n4g3pfee6491hc0brc4i.apps.googleusercontent.com&redirect_uri=urn%3aietf%3awg%3aoauth%3a2.0%3aoob&response_type=code&scope=email%20https%3a%2f%2fwww.googleapis.com%2fauth%2fdocs.test%20https%3a%2f%2fwww.googleapis.com%2fauth%2fdrive%20https%3a%2f%2fwww.googleapis.com%2fauth%2fdrive.photos.readonly%20https%3a%2f%2fwww.googleapis.com%2fauth%2fpeopleapi.readonly\n",
            "\n",
            "Enter your authorization code:\n",
            "··········\n",
            "Mounted at /content/gdrive\n"
          ],
          "name": "stdout"
        }
      ]
    },
    {
      "cell_type": "markdown",
      "metadata": {
        "id": "blRwQchP_tJU",
        "colab_type": "text"
      },
      "source": [
        "### [2] **Deckクラス**の作成\n",
        "\n",
        "コードの可読性を上げるためにクラスを作る。"
      ]
    },
    {
      "cell_type": "code",
      "metadata": {
        "id": "4CEj7wbV74iZ",
        "colab_type": "code",
        "colab": {}
      },
      "source": [
        "class Deck():\n",
        "    \"\"\"\n",
        "    デッキ内のカード情報やヘルパー関数を保持する。\n",
        "\n",
        "    Attributes\n",
        "    ----------\n",
        "    cards : list\n",
        "        カード情報。\n",
        "    \"\"\"\n",
        "\n",
        "\n",
        "    def __init__(self):\n",
        "        \"\"\"\n",
        "        Parameters\n",
        "        ----------\n",
        "        cards : list\n",
        "            カード情報。\n",
        "        card_num : int\n",
        "            デッキ内のカード枚数\n",
        "        \"\"\"\n",
        "        self.cards = {} # {id : detail=[num, ...]}\n",
        "        self.card_num = 0\n",
        "\n",
        "    def set_card(self, detail):\n",
        "        \"\"\"\n",
        "        カード情報をセットする。\n",
        "\n",
        "        Parameters\n",
        "        ----------\n",
        "        num : int\n",
        "            カード枚数。\n",
        "        detail : ndarray\n",
        "            カード詳細。\n",
        "        \"\"\"\n",
        "        self.cards[detail[0]] = detail[1:]\n",
        "        self.card_num += detail[1]\n",
        "\n",
        "    def print_all(self):\n",
        "        \"\"\"\n",
        "        デッキの内容を出力する。\n",
        "        \"\"\"\n",
        "        print(\"カード枚数: \" + str(self.card_num))\n",
        "        for card in self.cards.values():\n",
        "            print(card)"
      ],
      "execution_count": 0,
      "outputs": []
    },
    {
      "cell_type": "markdown",
      "metadata": {
        "id": "h-xx3iIR_7_d",
        "colab_type": "text"
      },
      "source": [
        "### [3] 便利な関数\n",
        "\n",
        "- **encode_cardid_by_url(url: str) -> dict**の作成\n",
        "\n",
        "  URLの前処理を行う。"
      ]
    },
    {
      "cell_type": "code",
      "metadata": {
        "id": "GvQHRL_k1S-H",
        "colab_type": "code",
        "colab": {}
      },
      "source": [
        "def encode_cardid_by_url(url: str) -> dict: \n",
        "    \"\"\"\n",
        "    URLから、カードidごとの枚数の辞書を作成する。\n",
        "\n",
        "    Parameters\n",
        "    ----------\n",
        "    url : str\n",
        "        デッキURL。\n",
        "    \n",
        "    Returns\n",
        "    -------\n",
        "    deck : dict of { str, int }\n",
        "        カードの種類ごとの枚数。    \n",
        "    \"\"\"\n",
        "    try:\n",
        "        # 型の確認\n",
        "        if type(url) != type(\"string\"):\n",
        "            raise Exception(\"URLは文字列で指定してください\")\n",
        "\n",
        "        # URLからカードidを取得\n",
        "        site_url, card_url = url.split(\"c=\")\n",
        "        card_url, key_card_url = card_url.split(\"&\")\n",
        "        arr_card_id = card_url.split(\".\")\n",
        "\n",
        "        # 40枚なかったらエラーを返す\n",
        "        if len(arr_card_id) != 40:\n",
        "            raise Exception(\"カードが40枚ありません\")\n",
        "        \n",
        "        deck = { card_id: arr_card_id.count(card_id) for card_id in arr_card_id }\n",
        "    \n",
        "        return deck\n",
        "\n",
        "    except Exception as e:\n",
        "        print(\"エラーが発生しました\")\n",
        "        print(e)\n"
      ],
      "execution_count": 0,
      "outputs": []
    },
    {
      "cell_type": "markdown",
      "metadata": {
        "id": "OWQQstouS4Zw",
        "colab_type": "text"
      },
      "source": [
        "## 入力\n",
        "\n",
        "1. csvを読み込む\n",
        "1. URLからcardidごとの枚数を取得\n",
        "1. 取得したデータとcsvからデッキ情報を作成"
      ]
    },
    {
      "cell_type": "code",
      "metadata": {
        "id": "5JLmVeqbtYJN",
        "colab_type": "code",
        "outputId": "d372bfda-2313-4490-a8de-0176475c05b3",
        "colab": {
          "base_uri": "https://localhost:8080/",
          "height": 72
        }
      },
      "source": [
        "import pandas as pd\n",
        "from pandas import DataFrame\n",
        "import numpy as np\n",
        "\n",
        "# csvの読み込み\n",
        "dmps_card_db = pd.read_csv(\n",
        "    \"/content/gdrive/My Drive/card_csv/dmps_card_db.csv\",\n",
        "    encoding=\"cp932\",\n",
        "    )\n",
        "\n",
        "# URLからdeck{'id':'card_num'}を取得\n",
        "deck_about = encode_cardid_by_url(\n",
        "    \"https://dmps.takaratomy.co.jp/deckbuilder/deck/\" + \n",
        "    \"?c=DEAJ.DEAJ.DEAJ.DEAJ.DE99.DE99.DE99.DE99.MQAK.MQAK\" + \n",
        "    \".MQAK.MQAK.PUAN.PUAN.PUAN.PUAN.4EBF.4EBF.4EBF.4EBF\" + \n",
        "    \".JMAB.JMAB.JMAB.JMAB.4EBU.4EBU.4EBU.4EBU.AAAS.AAAS.AAAS\"+\n",
        "    \".AAAS.4EAR.4EAR.4EAR.4EAR.DEAT.DEAT.DEAT.DEAT&k=DEAJ\"\n",
        "    )#input())\n",
        "\n",
        "# Deckにまとめる\n",
        "deck = Deck()\n",
        "for card_id, num in deck_about.items():\n",
        "    try:\n",
        "        # 一致する行をndarray型で取得\n",
        "        # Todo: 各要素の先頭になぜか空白が入る問題の修正\n",
        "        card_detail = dmps_card_db.query(\"id==@card_id\").to_numpy(copy=True).flatten()\n",
        "        if len(card_detail) == 0: # dbと一致しなかった\n",
        "            raise Exception(card_id + \"と一致するカードがdbにありません。\")\n",
        "        else: # 正常系\n",
        "            card = np.insert(arr=card_detail, obj=1, values=num)\n",
        "            deck.set_card(card)\n",
        "    except Exception as e:\n",
        "        print(\"エラーが発生しました\")\n",
        "        print(e)\n",
        "        print()\n",
        "\n",
        "# 結果出力\n",
        "# deck.print_all()\n",
        "\n",
        "# for card_detail in card_details:\n",
        "#     print(card_detail)"
      ],
      "execution_count": 5,
      "outputs": [
        {
          "output_type": "stream",
          "text": [
            "エラーが発生しました\n",
            "DE99と一致するカードがdbにありません。\n",
            "\n"
          ],
          "name": "stdout"
        }
      ]
    },
    {
      "cell_type": "markdown",
      "metadata": {
        "id": "i5uSJEEp3X1W",
        "colab_type": "text"
      },
      "source": [
        "## 出力テスト\n",
        "\n",
        "ちゃんと入力がとれているか確認\n"
      ]
    },
    {
      "cell_type": "code",
      "metadata": {
        "id": "wpaTErb63f-b",
        "colab_type": "code",
        "outputId": "7a2b3db1-febe-45c5-e85f-723d0e55acfb",
        "colab": {
          "base_uri": "https://localhost:8080/",
          "height": 199
        }
      },
      "source": [
        "deck.print_all()"
      ],
      "execution_count": 6,
      "outputs": [
        {
          "output_type": "stream",
          "text": [
            "カード枚数: 36\n",
            "[4 '予言者ジェス' ' ライトブリンガー' ' ' ' C' 1 ' 光' ' ' ' クリーチャー']\n",
            "[4 'プロテクト・フォース' ' 呪文' ' ' ' C' 1 ' 光' ' ' ' 呪文']\n",
            "[4 'ゼピメテウス' ' シー・ハッカー' ' ' ' C' 1 ' 水' ' ' ' クリーチャー']\n",
            "[4 'トリア' ' サイバーロード' ' ' ' C' 1 ' 水' ' ' ' クリーチャー']\n",
            "[4 'アクア・ガード' ' リキッド・ピープル' ' ' ' BASIC' 1 ' 水' ' ' ' クリーチャー']\n",
            "[4 '孤独の影ロンリー・ウォーカー' ' ゴースト' ' ' ' UC' 1 ' 闇' ' ' ' クリーチャー']\n",
            "[4 'ねじれる者ボーン・スライム' ' リビング・デッド' ' ' ' C' 1 ' 闇' ' ' ' クリーチャー']\n",
            "[4 '暴虐虫タイラント・ワーム' ' パラサイトワーム' ' ' ' C' 1 ' 闇' ' ' ' クリーチャー']\n",
            "[4 'ブラック・スレイヤー' ' 呪文' ' ' ' C' 1 ' 闇' ' ' ' 呪文']\n"
          ],
          "name": "stdout"
        }
      ]
    },
    {
      "cell_type": "markdown",
      "metadata": {
        "id": "9hqa7PZ-TY7Y",
        "colab_type": "text"
      },
      "source": [
        "## BASIC+60バリデート\n",
        "\n",
        "レギュレーションに沿っているか確認する。\n",
        "デッキの合計ポイントと合否を出力する。"
      ]
    },
    {
      "cell_type": "code",
      "metadata": {
        "id": "Z49XufoBV99U",
        "colab_type": "code",
        "outputId": "9cc10cb3-a9fd-4707-f5fd-a4c9a0b28779",
        "colab": {
          "base_uri": "https://localhost:8080/",
          "height": 72
        }
      },
      "source": [
        "# ポイント上限\n",
        "point_max = 60\n",
        "\n",
        "# カード枚数の確認\n",
        "print(\"カード枚数\\t: \",deck.card_num)\n",
        "\n",
        "# ポイントの確認\n",
        "total_point = 0\n",
        "for card in deck.cards.values():\n",
        "    point = 0\n",
        "    # 空白が入っていることに注意\n",
        "    if card[4] == ' BASIC':\n",
        "        point = 0\n",
        "    elif card[4] == ' C':\n",
        "        point = 2\n",
        "    elif card[4] == ' UC':\n",
        "        point = 4\n",
        "    elif card[4] == ' R':\n",
        "        point = 4\n",
        "    elif card[4] == ' VR':\n",
        "        point = 4\n",
        "    elif card[4] == ' SR':\n",
        "        point = 4\n",
        "    else:\n",
        "        print(\"レア度が不正です。\")\n",
        "    \n",
        "    total_point += point*card[0]\n",
        "\n",
        "print(\"合計ポイント\\t: \",total_point)\n",
        "\n",
        "if total_point > point_max:\n",
        "    print(\"判定\\t\\t: \",\"OUT\")\n",
        "else:\n",
        "    print(\"判定\\t\\t: \",\"OK\")"
      ],
      "execution_count": 7,
      "outputs": [
        {
          "output_type": "stream",
          "text": [
            "カード枚数\t:  36\n",
            "合計ポイント\t:  72\n",
            "判定\t\t:  OUT\n"
          ],
          "name": "stdout"
        }
      ]
    },
    {
      "cell_type": "markdown",
      "metadata": {
        "id": "3IiCMVDO7F0I",
        "colab_type": "text"
      },
      "source": [
        "# 処理(ガチ)"
      ]
    },
    {
      "cell_type": "markdown",
      "metadata": {
        "colab_type": "text",
        "id": "UdWkv3_H7NX9"
      },
      "source": [
        "## 準備"
      ]
    },
    {
      "cell_type": "markdown",
      "metadata": {
        "id": "vgUvG3Fp_f0o",
        "colab_type": "text"
      },
      "source": [
        "### 必要なデータをダウンロード\n",
        "[こちら](https://github.com/kentokura/dmps_tournament_assist)のリポジトリをクローンします。主に使用するのは以下のファイルです。\n",
        "\n",
        "| ファイル名 | 説明 |\n",
        "| --- | --- |\n",
        "| dmps_cards | カードセットがいくつかのcsvファイルに分かれてあります。|\n",
        "| src | こちらで使う関数が定義されています。 |\n"
      ]
    },
    {
      "cell_type": "code",
      "metadata": {
        "id": "1y9vcafOEUAZ",
        "colab_type": "code",
        "outputId": "cebe0e76-48ec-4e75-d043-787cd3198fc5",
        "colab": {
          "base_uri": "https://localhost:8080/",
          "height": 163
        }
      },
      "source": [
        "# リポジトリをクローンする\n",
        "!git clone https://github.com/kentokura/dmps_tournament_assist\n",
        "# 確認\n",
        "!ls dmps_tournament_assist/"
      ],
      "execution_count": 8,
      "outputs": [
        {
          "output_type": "stream",
          "text": [
            "Cloning into 'dmps_tournament_assist'...\n",
            "remote: Enumerating objects: 165, done.\u001b[K\n",
            "remote: Counting objects:   0% (1/165)\u001b[K\rremote: Counting objects:   1% (2/165)\u001b[K\rremote: Counting objects:   2% (4/165)\u001b[K\rremote: Counting objects:   3% (5/165)\u001b[K\rremote: Counting objects:   4% (7/165)\u001b[K\rremote: Counting objects:   5% (9/165)\u001b[K\rremote: Counting objects:   6% (10/165)\u001b[K\rremote: Counting objects:   7% (12/165)\u001b[K\rremote: Counting objects:   8% (14/165)\u001b[K\rremote: Counting objects:   9% (15/165)\u001b[K\rremote: Counting objects:  10% (17/165)\u001b[K\rremote: Counting objects:  11% (19/165)\u001b[K\rremote: Counting objects:  12% (20/165)\u001b[K\rremote: Counting objects:  13% (22/165)\u001b[K\rremote: Counting objects:  14% (24/165)\u001b[K\rremote: Counting objects:  15% (25/165)\u001b[K\rremote: Counting objects:  16% (27/165)\u001b[K\rremote: Counting objects:  17% (29/165)\u001b[K\rremote: Counting objects:  18% (30/165)\u001b[K\rremote: Counting objects:  19% (32/165)\u001b[K\rremote: Counting objects:  20% (33/165)\u001b[K\rremote: Counting objects:  21% (35/165)\u001b[K\rremote: Counting objects:  22% (37/165)\u001b[K\rremote: Counting objects:  23% (38/165)\u001b[K\rremote: Counting objects:  24% (40/165)\u001b[K\rremote: Counting objects:  25% (42/165)\u001b[K\rremote: Counting objects:  26% (43/165)\u001b[K\rremote: Counting objects:  27% (45/165)\u001b[K\rremote: Counting objects:  28% (47/165)\u001b[K\rremote: Counting objects:  29% (48/165)\u001b[K\rremote: Counting objects:  30% (50/165)\u001b[K\rremote: Counting objects:  31% (52/165)\u001b[K\rremote: Counting objects:  32% (53/165)\u001b[K\rremote: Counting objects:  33% (55/165)\u001b[K\rremote: Counting objects:  34% (57/165)\u001b[K\rremote: Counting objects:  35% (58/165)\u001b[K\rremote: Counting objects:  36% (60/165)\u001b[K\rremote: Counting objects:  37% (62/165)\u001b[K\rremote: Counting objects:  38% (63/165)\u001b[K\rremote: Counting objects:  39% (65/165)\u001b[K\rremote: Counting objects:  40% (66/165)\u001b[K\rremote: Counting objects:  41% (68/165)\u001b[K\rremote: Counting objects:  42% (70/165)\u001b[K\rremote: Counting objects:  43% (71/165)\u001b[K\rremote: Counting objects:  44% (73/165)\u001b[K\rremote: Counting objects:  45% (75/165)\u001b[K\rremote: Counting objects:  46% (76/165)\u001b[K\rremote: Counting objects:  47% (78/165)\u001b[K\rremote: Counting objects:  48% (80/165)\u001b[K\rremote: Counting objects:  49% (81/165)\u001b[K\rremote: Counting objects:  50% (83/165)\u001b[K\rremote: Counting objects:  51% (85/165)\u001b[K\rremote: Counting objects:  52% (86/165)\u001b[K\rremote: Counting objects:  53% (88/165)\u001b[K\rremote: Counting objects:  54% (90/165)\u001b[K\rremote: Counting objects:  55% (91/165)\u001b[K\rremote: Counting objects:  56% (93/165)\u001b[K\rremote: Counting objects:  57% (95/165)\u001b[K\rremote: Counting objects:  58% (96/165)\u001b[K\rremote: Counting objects:  59% (98/165)\u001b[K\rremote: Counting objects:  60% (99/165)\u001b[K\rremote: Counting objects:  61% (101/165)\u001b[K\rremote: Counting objects:  62% (103/165)\u001b[K\rremote: Counting objects:  63% (104/165)\u001b[K\rremote: Counting objects:  64% (106/165)\u001b[K\rremote: Counting objects:  65% (108/165)\u001b[K\rremote: Counting objects:  66% (109/165)\u001b[K\rremote: Counting objects:  67% (111/165)\u001b[K\rremote: Counting objects:  68% (113/165)\u001b[K\rremote: Counting objects:  69% (114/165)\u001b[K\rremote: Counting objects:  70% (116/165)\u001b[K\rremote: Counting objects:  71% (118/165)\u001b[K\rremote: Counting objects:  72% (119/165)\u001b[K\rremote: Counting objects:  73% (121/165)\u001b[K\rremote: Counting objects:  74% (123/165)\u001b[K\rremote: Counting objects:  75% (124/165)\u001b[K\rremote: Counting objects:  76% (126/165)\u001b[K\rremote: Counting objects:  77% (128/165)\u001b[K\rremote: Counting objects:  78% (129/165)\u001b[K\rremote: Counting objects:  79% (131/165)\u001b[K\rremote: Counting objects:  80% (132/165)\u001b[K\rremote: Counting objects:  81% (134/165)\u001b[K\rremote: Counting objects:  82% (136/165)\u001b[K\rremote: Counting objects:  83% (137/165)\u001b[K\rremote: Counting objects:  84% (139/165)\u001b[K\rremote: Counting objects:  85% (141/165)\u001b[K\rremote: Counting objects:  86% (142/165)\u001b[K\rremote: Counting objects:  87% (144/165)\u001b[K\rremote: Counting objects:  88% (146/165)\u001b[K\rremote: Counting objects:  89% (147/165)\u001b[K\rremote: Counting objects:  90% (149/165)\u001b[K\rremote: Counting objects:  91% (151/165)\u001b[K\rremote: Counting objects:  92% (152/165)\u001b[K\rremote: Counting objects:  93% (154/165)\u001b[K\rremote: Counting objects:  94% (156/165)\u001b[K\rremote: Counting objects:  95% (157/165)\u001b[K\rremote: Counting objects:  96% (159/165)\u001b[K\rremote: Counting objects:  97% (161/165)\u001b[K\rremote: Counting objects:  98% (162/165)\u001b[K\rremote: Counting objects:  99% (164/165)\u001b[K\rremote: Counting objects: 100% (165/165)\u001b[K\rremote: Counting objects: 100% (165/165), done.\u001b[K\n",
            "remote: Compressing objects:   0% (1/119)\u001b[K\rremote: Compressing objects:   1% (2/119)\u001b[K\rremote: Compressing objects:   2% (3/119)\u001b[K\rremote: Compressing objects:   3% (4/119)\u001b[K\rremote: Compressing objects:   4% (5/119)\u001b[K\rremote: Compressing objects:   5% (6/119)\u001b[K\rremote: Compressing objects:   6% (8/119)\u001b[K\rremote: Compressing objects:   7% (9/119)\u001b[K\rremote: Compressing objects:   8% (10/119)\u001b[K\rremote: Compressing objects:   9% (11/119)\u001b[K\rremote: Compressing objects:  10% (12/119)\u001b[K\rremote: Compressing objects:  11% (14/119)\u001b[K\rremote: Compressing objects:  12% (15/119)\u001b[K\rremote: Compressing objects:  13% (16/119)\u001b[K\rremote: Compressing objects:  14% (17/119)\u001b[K\rremote: Compressing objects:  15% (18/119)\u001b[K\rremote: Compressing objects:  16% (20/119)\u001b[K\rremote: Compressing objects:  17% (21/119)\u001b[K\rremote: Compressing objects:  18% (22/119)\u001b[K\rremote: Compressing objects:  19% (23/119)\u001b[K\rremote: Compressing objects:  20% (24/119)\u001b[K\rremote: Compressing objects:  21% (25/119)\u001b[K\rremote: Compressing objects:  22% (27/119)\u001b[K\rremote: Compressing objects:  23% (28/119)\u001b[K\rremote: Compressing objects:  24% (29/119)\u001b[K\rremote: Compressing objects:  25% (30/119)\u001b[K\rremote: Compressing objects:  26% (31/119)\u001b[K\rremote: Compressing objects:  27% (33/119)\u001b[K\rremote: Compressing objects:  28% (34/119)\u001b[K\rremote: Compressing objects:  29% (35/119)\u001b[K\rremote: Compressing objects:  30% (36/119)\u001b[K\rremote: Compressing objects:  31% (37/119)\u001b[K\rremote: Compressing objects:  32% (39/119)\u001b[K\rremote: Compressing objects:  33% (40/119)\u001b[K\rremote: Compressing objects:  34% (41/119)\u001b[K\rremote: Compressing objects:  35% (42/119)\u001b[K\rremote: Compressing objects:  36% (43/119)\u001b[K\rremote: Compressing objects:  37% (45/119)\u001b[K\rremote: Compressing objects:  38% (46/119)\u001b[K\rremote: Compressing objects:  39% (47/119)\u001b[K\rremote: Compressing objects:  40% (48/119)\u001b[K\rremote: Compressing objects:  41% (49/119)\u001b[K\rremote: Compressing objects:  42% (50/119)\u001b[K\rremote: Compressing objects:  43% (52/119)\u001b[K\rremote: Compressing objects:  44% (53/119)\u001b[K\rremote: Compressing objects:  45% (54/119)\u001b[K\rremote: Compressing objects:  46% (55/119)\u001b[K\rremote: Compressing objects:  47% (56/119)\u001b[K\rremote: Compressing objects:  48% (58/119)\u001b[K\rremote: Compressing objects:  49% (59/119)\u001b[K\rremote: Compressing objects:  50% (60/119)\u001b[K\rremote: Compressing objects:  51% (61/119)\u001b[K\rremote: Compressing objects:  52% (62/119)\u001b[K\rremote: Compressing objects:  53% (64/119)\u001b[K\rremote: Compressing objects:  54% (65/119)\u001b[K\rremote: Compressing objects:  55% (66/119)\u001b[K\rremote: Compressing objects:  56% (67/119)\u001b[K\rremote: Compressing objects:  57% (68/119)\u001b[K\rremote: Compressing objects:  58% (70/119)\u001b[K\rremote: Compressing objects:  59% (71/119)\u001b[K\rremote: Compressing objects:  60% (72/119)\u001b[K\rremote: Compressing objects:  61% (73/119)\u001b[K\rremote: Compressing objects:  62% (74/119)\u001b[K\rremote: Compressing objects:  63% (75/119)\u001b[K\rremote: Compressing objects:  64% (77/119)\u001b[K\rremote: Compressing objects:  65% (78/119)\u001b[K\rremote: Compressing objects:  66% (79/119)\u001b[K\rremote: Compressing objects:  67% (80/119)\u001b[K\rremote: Compressing objects:  68% (81/119)\u001b[K\rremote: Compressing objects:  69% (83/119)\u001b[K\rremote: Compressing objects:  70% (84/119)\u001b[K\rremote: Compressing objects:  71% (85/119)\u001b[K\rremote: Compressing objects:  72% (86/119)\u001b[K\rremote: Compressing objects:  73% (87/119)\u001b[K\rremote: Compressing objects:  74% (89/119)\u001b[K\rremote: Compressing objects:  75% (90/119)\u001b[K\rremote: Compressing objects:  76% (91/119)\u001b[K\rremote: Compressing objects:  77% (92/119)\u001b[K\rremote: Compressing objects:  78% (93/119)\u001b[K\rremote: Compressing objects:  79% (95/119)\u001b[K\rremote: Compressing objects:  80% (96/119)\u001b[K\rremote: Compressing objects:  81% (97/119)\u001b[K\rremote: Compressing objects:  82% (98/119)\u001b[K\rremote: Compressing objects:  83% (99/119)\u001b[K\rremote: Compressing objects:  84% (100/119)\u001b[K\rremote: Compressing objects:  85% (102/119)\u001b[K\rremote: Compressing objects:  86% (103/119)\u001b[K\rremote: Compressing objects:  87% (104/119)\u001b[K\rremote: Compressing objects:  88% (105/119)\u001b[K\rremote: Compressing objects:  89% (106/119)\u001b[K\rremote: Compressing objects:  90% (108/119)\u001b[K\rremote: Compressing objects:  91% (109/119)\u001b[K\rremote: Compressing objects:  92% (110/119)\u001b[K\rremote: Compressing objects:  93% (111/119)\u001b[K\rremote: Compressing objects:  94% (112/119)\u001b[K\rremote: Compressing objects:  95% (114/119)\u001b[K\rremote: Compressing objects:  96% (115/119)\u001b[K\rremote: Compressing objects:  97% (116/119)\u001b[K\rremote: Compressing objects:  98% (117/119)\u001b[K\rremote: Compressing objects:  99% (118/119)\u001b[K\rremote: Compressing objects: 100% (119/119)\u001b[K\rremote: Compressing objects: 100% (119/119), done.\u001b[K\n",
            "Receiving objects:   0% (1/165)   \rReceiving objects:   1% (2/165)   \rReceiving objects:   2% (4/165)   \rReceiving objects:   3% (5/165)   \rReceiving objects:   4% (7/165)   \rReceiving objects:   5% (9/165)   \rReceiving objects:   6% (10/165)   \rReceiving objects:   7% (12/165)   \rReceiving objects:   8% (14/165)   \rReceiving objects:   9% (15/165)   \rReceiving objects:  10% (17/165)   \rReceiving objects:  11% (19/165)   \rReceiving objects:  12% (20/165)   \rReceiving objects:  13% (22/165)   \rReceiving objects:  14% (24/165)   \rReceiving objects:  15% (25/165)   \rReceiving objects:  16% (27/165)   \rReceiving objects:  17% (29/165)   \rReceiving objects:  18% (30/165)   \rReceiving objects:  19% (32/165)   \rReceiving objects:  20% (33/165)   \rReceiving objects:  21% (35/165)   \rReceiving objects:  22% (37/165)   \rReceiving objects:  23% (38/165)   \rReceiving objects:  24% (40/165)   \rReceiving objects:  25% (42/165)   \rReceiving objects:  26% (43/165)   \rReceiving objects:  27% (45/165)   \rReceiving objects:  28% (47/165)   \rReceiving objects:  29% (48/165)   \rReceiving objects:  30% (50/165)   \rReceiving objects:  31% (52/165)   \rReceiving objects:  32% (53/165)   \rReceiving objects:  33% (55/165)   \rReceiving objects:  34% (57/165)   \rReceiving objects:  35% (58/165)   \rReceiving objects:  36% (60/165)   \rReceiving objects:  37% (62/165)   \rReceiving objects:  38% (63/165)   \rReceiving objects:  39% (65/165)   \rReceiving objects:  40% (66/165)   \rReceiving objects:  41% (68/165)   \rReceiving objects:  42% (70/165)   \rReceiving objects:  43% (71/165)   \rReceiving objects:  44% (73/165)   \rReceiving objects:  45% (75/165)   \rReceiving objects:  46% (76/165)   \rReceiving objects:  47% (78/165)   \rReceiving objects:  48% (80/165)   \rReceiving objects:  49% (81/165)   \rReceiving objects:  50% (83/165)   \rReceiving objects:  51% (85/165)   \rReceiving objects:  52% (86/165)   \rReceiving objects:  53% (88/165)   \rReceiving objects:  54% (90/165)   \rReceiving objects:  55% (91/165)   \rReceiving objects:  56% (93/165)   \rReceiving objects:  57% (95/165)   \rReceiving objects:  58% (96/165)   \rReceiving objects:  59% (98/165)   \rReceiving objects:  60% (99/165)   \rReceiving objects:  61% (101/165)   \rReceiving objects:  62% (103/165)   \rReceiving objects:  63% (104/165)   \rReceiving objects:  64% (106/165)   \rReceiving objects:  65% (108/165)   \rReceiving objects:  66% (109/165)   \rReceiving objects:  67% (111/165)   \rReceiving objects:  68% (113/165)   \rReceiving objects:  69% (114/165)   \rReceiving objects:  70% (116/165)   \rReceiving objects:  71% (118/165)   \rReceiving objects:  72% (119/165)   \rReceiving objects:  73% (121/165)   \rReceiving objects:  74% (123/165)   \rReceiving objects:  75% (124/165)   \rReceiving objects:  76% (126/165)   \rReceiving objects:  77% (128/165)   \rReceiving objects:  78% (129/165)   \rReceiving objects:  79% (131/165)   \rReceiving objects:  80% (132/165)   \rReceiving objects:  81% (134/165)   \rReceiving objects:  82% (136/165)   \rReceiving objects:  83% (137/165)   \rReceiving objects:  84% (139/165)   \rReceiving objects:  85% (141/165)   \rReceiving objects:  86% (142/165)   \rReceiving objects:  87% (144/165)   \rReceiving objects:  88% (146/165)   \rReceiving objects:  89% (147/165)   \rReceiving objects:  90% (149/165)   \rReceiving objects:  91% (151/165)   \rReceiving objects:  92% (152/165)   \rReceiving objects:  93% (154/165)   \rReceiving objects:  94% (156/165)   \rremote: Total 165 (delta 43), reused 127 (delta 29), pack-reused 0\u001b[K\n",
            "Receiving objects:  95% (157/165)   \rReceiving objects:  96% (159/165)   \rReceiving objects:  97% (161/165)   \rReceiving objects:  98% (162/165)   \rReceiving objects:  99% (164/165)   \rReceiving objects: 100% (165/165)   \rReceiving objects: 100% (165/165), 494.84 KiB | 10.31 MiB/s, done.\n",
            "Resolving deltas:   0% (0/43)   \rResolving deltas:   4% (2/43)   \rResolving deltas:  13% (6/43)   \rResolving deltas:  18% (8/43)   \rResolving deltas:  23% (10/43)   \rResolving deltas:  25% (11/43)   \rResolving deltas:  30% (13/43)   \rResolving deltas:  32% (14/43)   \rResolving deltas:  37% (16/43)   \rResolving deltas:  46% (20/43)   \rResolving deltas:  51% (22/43)   \rResolving deltas:  53% (23/43)   \rResolving deltas:  58% (25/43)   \rResolving deltas:  69% (30/43)   \rResolving deltas: 100% (43/43)   \rResolving deltas: 100% (43/43), done.\n",
            "dmps_cards  LICENSE  main.ipynb  README.md  src\n"
          ],
          "name": "stdout"
        }
      ]
    },
    {
      "cell_type": "markdown",
      "metadata": {
        "colab_type": "text",
        "id": "_LNaHeFu7NX-"
      },
      "source": [
        "### [1] GDriveをマウントする。\n",
        "\n",
        "ここからカード情報のcsvを読み込む。\n",
        "\n"
      ]
    },
    {
      "cell_type": "code",
      "metadata": {
        "colab_type": "code",
        "outputId": "911b77f8-7f12-4fb0-f291-cbd2d42b3cca",
        "cellView": "code",
        "id": "SkzhUoZ_7NX_",
        "colab": {
          "base_uri": "https://localhost:8080/",
          "height": 55
        }
      },
      "source": [
        "# driveのマウント\n",
        "from google.colab import drive\n",
        "drive.mount('/content/gdrive')"
      ],
      "execution_count": 9,
      "outputs": [
        {
          "output_type": "stream",
          "text": [
            "Drive already mounted at /content/gdrive; to attempt to forcibly remount, call drive.mount(\"/content/gdrive\", force_remount=True).\n"
          ],
          "name": "stdout"
        }
      ]
    },
    {
      "cell_type": "markdown",
      "metadata": {
        "colab_type": "text",
        "id": "421OsO0Z7NYG"
      },
      "source": [
        "### [2] **Deckクラス**の作成\n",
        "\n",
        "コードの可読性を上げるためにクラスを作る。"
      ]
    },
    {
      "cell_type": "code",
      "metadata": {
        "colab_type": "code",
        "id": "ftzvxfQ57NYH",
        "colab": {}
      },
      "source": [
        "class Deck():\n",
        "    \"\"\"\n",
        "    デッキ内のカード情報やヘルパー関数を保持する。\n",
        "\n",
        "    Attributes\n",
        "    ----------\n",
        "    cards : list\n",
        "        カード情報。\n",
        "    card_num : int\n",
        "        デッキ内のカード枚数。\n",
        "    regulation : str\n",
        "        大会レギュレーション。\n",
        "    is_pass_validate : bool\n",
        "        regulationに沿った検査の結果。\n",
        "\n",
        "    \"\"\"\n",
        "\n",
        "\n",
        "    def __init__(self, regulation='Nomal'):\n",
        "        \"\"\"\n",
        "        Parameters\n",
        "        ----------\n",
        "        cards : list\n",
        "            カード情報。\n",
        "        card_num : int\n",
        "            デッキ内のカード枚数。\n",
        "        regulation : str\n",
        "            大会レギュレーション。\n",
        "        is_pass_validate : bool\n",
        "            regulationに沿った検査の結果。\n",
        "        \"\"\"\n",
        "        self.cards = {} # {id : detail=[num, ...]}\n",
        "        self.card_num = 0\n",
        "        self.regulation = regulation\n",
        "        self.is_pass_validate = False\n",
        "\n",
        "    def set_card(self, detail):\n",
        "        \"\"\"\n",
        "        カード情報をセットする。\n",
        "\n",
        "        Parameters\n",
        "        ----------\n",
        "        num : int\n",
        "            カード枚数。\n",
        "        detail : ndarray\n",
        "            カード詳細。\n",
        "        \"\"\"\n",
        "        self.cards[detail[0]] = detail[1:]\n",
        "        self.card_num += detail[1]\n",
        "\n",
        "    def print_all(self):\n",
        "        \"\"\"\n",
        "        デッキの内容を出力する。\n",
        "        \"\"\"\n",
        "        print(\"カード枚数: \" + str(self.card_num))\n",
        "        for card in self.cards.values():\n",
        "            print(card)\n",
        "    \n",
        "    def validate(self):\n",
        "        \"\"\"\n",
        "        確認する。\n",
        "        \"\"\"\n",
        "        if self.regulation == 'Nomal':\n",
        "            self.is_pass_validate = True\n",
        "        elif self.regulation == 'BASIC+60':\n",
        "            # ポイント上限\n",
        "            point_max = 60\n",
        "\n",
        "            # カード枚数の確認\n",
        "            # print(\"カード枚数\\t: \",self.card_num)\n",
        "\n",
        "            # ポイントの確認\n",
        "            total_point = 0\n",
        "            for card in self.cards.values():\n",
        "                point = 0\n",
        "                # 空白が入っていることに注意\n",
        "                if card[4] == ' BASIC':\n",
        "                    point = 0\n",
        "                elif card[4] == ' C':\n",
        "                    point = 2\n",
        "                elif card[4] == ' UC':\n",
        "                    point = 4\n",
        "                elif card[4] == ' R':\n",
        "                    point = 4\n",
        "                elif card[4] == ' VR':\n",
        "                    point = 4\n",
        "                elif card[4] == ' SR':\n",
        "                    point = 4\n",
        "                else:\n",
        "                    print(\"レア度が不正です。\")\n",
        "                \n",
        "                total_point += point*card[0]\n",
        "\n",
        "            # print(\"合計ポイント\\t: \",total_point)\n",
        "\n",
        "            if total_point > point_max:\n",
        "                # print(\"判定\\t\\t: \",\"OUT\")\n",
        "                self.is_pass_validate == False\n",
        "            else:\n",
        "                # print(\"判定\\t\\t: \",\"OK\")\n",
        "                self.is_pass_validate == True"
      ],
      "execution_count": 0,
      "outputs": []
    },
    {
      "cell_type": "markdown",
      "metadata": {
        "colab_type": "text",
        "id": "jYL9aZHS7NYK"
      },
      "source": [
        "### [3] 便利な関数\n",
        "\n",
        "- **encode_cardid_by_url(url: str) -> dict**の作成\n",
        "\n",
        "  URLの前処理を行う。"
      ]
    },
    {
      "cell_type": "code",
      "metadata": {
        "colab_type": "code",
        "id": "5j1V3zWo7NYL",
        "colab": {}
      },
      "source": [
        "def encode_cardid_by_url(url: str) -> dict: \n",
        "    \"\"\"\n",
        "    URLから、カードidごとの枚数の辞書を作成する。\n",
        "\n",
        "    Parameters\n",
        "    ----------\n",
        "    url : str\n",
        "        デッキURL。\n",
        "    \n",
        "    Returns\n",
        "    -------\n",
        "    deck : dict of { str, int }\n",
        "        カードの種類ごとの枚数。    \n",
        "    \"\"\"\n",
        "    try:\n",
        "        # 型の確認\n",
        "        if type(url) != type(\"string\"):\n",
        "            raise Exception(\"URLは文字列で指定してください\")\n",
        "\n",
        "        # URLからカードidを取得\n",
        "        site_url, card_url = url.split(\"c=\")\n",
        "        card_url, key_card_url = card_url.split(\"&\")\n",
        "        arr_card_id = card_url.split(\".\")\n",
        "\n",
        "        # 40枚なかったらエラーを返す\n",
        "        if len(arr_card_id) != 40:\n",
        "            raise Exception(\"カードが40枚ありません\")\n",
        "        \n",
        "        deck = { card_id: arr_card_id.count(card_id) for card_id in arr_card_id }\n",
        "    \n",
        "        return deck\n",
        "\n",
        "    except Exception as e:\n",
        "        print(\"エラーが発生しました\")\n",
        "        print(e)\n"
      ],
      "execution_count": 0,
      "outputs": []
    },
    {
      "cell_type": "markdown",
      "metadata": {
        "colab_type": "text",
        "id": "ta41wwbO7NYN"
      },
      "source": [
        "## 入力\n",
        "\n",
        "1. csvを読み込む\n",
        "1. URLからcardidごとの枚数を取得\n",
        "1. 取得したデータとcsvからデッキ情報を作成"
      ]
    },
    {
      "cell_type": "code",
      "metadata": {
        "id": "judh8VLAEDTC",
        "colab_type": "code",
        "colab": {
          "base_uri": "https://localhost:8080/",
          "height": 35
        },
        "outputId": "e3ea589f-5e74-4dae-c609-1a44e6558c05"
      },
      "source": [
        "!ls "
      ],
      "execution_count": 12,
      "outputs": [
        {
          "output_type": "stream",
          "text": [
            "dmps_tournament_assist\tgdrive\tsample_data\n"
          ],
          "name": "stdout"
        }
      ]
    },
    {
      "cell_type": "code",
      "metadata": {
        "colab_type": "code",
        "outputId": "a1b09b2b-21b8-49bf-8ba8-aefeb138350a",
        "id": "qLeb3SsD7NYO",
        "colab": {
          "base_uri": "https://localhost:8080/",
          "height": 600
        }
      },
      "source": [
        "import pandas as pd\n",
        "from pandas import DataFrame\n",
        "import numpy as np\n",
        "\n",
        "# csvの読み込み\n",
        "dmps_card_db = pd.read_csv(\n",
        "    \"/content/gdrive/My Drive/card_csv/dmps_card_db.csv\",\n",
        "    encoding=\"cp932\",\n",
        "    )\n",
        "print(type(dmps_card_db))\n",
        "\n",
        "# URLからdeck{'id':'card_num'}を取得\n",
        "deck_about = encode_cardid_by_url(input())\n",
        "    # \"https://dmps.takaratomy.co.jp/deckbuilder/deck/\" + \n",
        "    # \"?c=DEAJ.DEAJ.DEAJ.DEAJ.DE99.DE99.DE99.DE99.MQAK.MQAK\" + \n",
        "    # \".MQAK.MQAK.PUAN.PUAN.PUAN.PUAN.4EBF.4EBF.4EBF.4EBF\" + \n",
        "    # \".JMAB.JMAB.JMAB.JMAB.4EBU.4EBU.4EBU.4EBU.AAAS.AAAS.AAAS\"+\n",
        "    # \".AAAS.4EAR.4EAR.4EAR.4EAR.DEAT.DEAT.DEAT.DEAT&k=DEAJ\"\n",
        "    # )#input())\n",
        "\n",
        "# Deckにまとめる\n",
        "deck = Deck(regulation=\"BASIC+60\")\n",
        "for card_id, num in deck_about.items():\n",
        "    try:\n",
        "        # 一致する行をndarray型で取得\n",
        "        # Todo: 各要素の先頭になぜか空白が入る問題の修正\n",
        "        card_detail = dmps_card_db.query(\"id==@card_id\").to_numpy(copy=True).flatten()\n",
        "        if len(card_detail) == 0: # dbと一致しなかった\n",
        "            raise Exception(card_id + \"と一致するカードがdbにありません。\")\n",
        "        else: # 正常系\n",
        "            card = np.insert(arr=card_detail, obj=1, values=num)\n",
        "            deck.set_card(card)\n",
        "    except Exception as e:\n",
        "        print(\"エラーが発生しました\")\n",
        "        print(e)\n",
        "        print()\n",
        "\n",
        "# 結果出力\n",
        "# deck.print_all()\n",
        "\n",
        "# for card_detail in card_details:\n",
        "#     print(card_detail)"
      ],
      "execution_count": 13,
      "outputs": [
        {
          "output_type": "stream",
          "text": [
            "<class 'pandas.core.frame.DataFrame'>\n"
          ],
          "name": "stdout"
        },
        {
          "output_type": "error",
          "ename": "KeyboardInterrupt",
          "evalue": "ignored",
          "traceback": [
            "\u001b[0;31m---------------------------------------------------------------------------\u001b[0m",
            "\u001b[0;31mKeyboardInterrupt\u001b[0m                         Traceback (most recent call last)",
            "\u001b[0;32m/usr/local/lib/python3.6/dist-packages/ipykernel/kernelbase.py\u001b[0m in \u001b[0;36m_input_request\u001b[0;34m(self, prompt, ident, parent, password)\u001b[0m\n\u001b[1;32m    728\u001b[0m             \u001b[0;32mtry\u001b[0m\u001b[0;34m:\u001b[0m\u001b[0;34m\u001b[0m\u001b[0;34m\u001b[0m\u001b[0m\n\u001b[0;32m--> 729\u001b[0;31m                 \u001b[0mident\u001b[0m\u001b[0;34m,\u001b[0m \u001b[0mreply\u001b[0m \u001b[0;34m=\u001b[0m \u001b[0mself\u001b[0m\u001b[0;34m.\u001b[0m\u001b[0msession\u001b[0m\u001b[0;34m.\u001b[0m\u001b[0mrecv\u001b[0m\u001b[0;34m(\u001b[0m\u001b[0mself\u001b[0m\u001b[0;34m.\u001b[0m\u001b[0mstdin_socket\u001b[0m\u001b[0;34m,\u001b[0m \u001b[0;36m0\u001b[0m\u001b[0;34m)\u001b[0m\u001b[0;34m\u001b[0m\u001b[0;34m\u001b[0m\u001b[0m\n\u001b[0m\u001b[1;32m    730\u001b[0m             \u001b[0;32mexcept\u001b[0m \u001b[0mException\u001b[0m\u001b[0;34m:\u001b[0m\u001b[0;34m\u001b[0m\u001b[0;34m\u001b[0m\u001b[0m\n",
            "\u001b[0;32m/usr/local/lib/python3.6/dist-packages/jupyter_client/session.py\u001b[0m in \u001b[0;36mrecv\u001b[0;34m(self, socket, mode, content, copy)\u001b[0m\n\u001b[1;32m    802\u001b[0m         \u001b[0;32mtry\u001b[0m\u001b[0;34m:\u001b[0m\u001b[0;34m\u001b[0m\u001b[0;34m\u001b[0m\u001b[0m\n\u001b[0;32m--> 803\u001b[0;31m             \u001b[0mmsg_list\u001b[0m \u001b[0;34m=\u001b[0m \u001b[0msocket\u001b[0m\u001b[0;34m.\u001b[0m\u001b[0mrecv_multipart\u001b[0m\u001b[0;34m(\u001b[0m\u001b[0mmode\u001b[0m\u001b[0;34m,\u001b[0m \u001b[0mcopy\u001b[0m\u001b[0;34m=\u001b[0m\u001b[0mcopy\u001b[0m\u001b[0;34m)\u001b[0m\u001b[0;34m\u001b[0m\u001b[0;34m\u001b[0m\u001b[0m\n\u001b[0m\u001b[1;32m    804\u001b[0m         \u001b[0;32mexcept\u001b[0m \u001b[0mzmq\u001b[0m\u001b[0;34m.\u001b[0m\u001b[0mZMQError\u001b[0m \u001b[0;32mas\u001b[0m \u001b[0me\u001b[0m\u001b[0;34m:\u001b[0m\u001b[0;34m\u001b[0m\u001b[0;34m\u001b[0m\u001b[0m\n",
            "\u001b[0;32m/usr/local/lib/python3.6/dist-packages/zmq/sugar/socket.py\u001b[0m in \u001b[0;36mrecv_multipart\u001b[0;34m(self, flags, copy, track)\u001b[0m\n\u001b[1;32m    474\u001b[0m         \"\"\"\n\u001b[0;32m--> 475\u001b[0;31m         \u001b[0mparts\u001b[0m \u001b[0;34m=\u001b[0m \u001b[0;34m[\u001b[0m\u001b[0mself\u001b[0m\u001b[0;34m.\u001b[0m\u001b[0mrecv\u001b[0m\u001b[0;34m(\u001b[0m\u001b[0mflags\u001b[0m\u001b[0;34m,\u001b[0m \u001b[0mcopy\u001b[0m\u001b[0;34m=\u001b[0m\u001b[0mcopy\u001b[0m\u001b[0;34m,\u001b[0m \u001b[0mtrack\u001b[0m\u001b[0;34m=\u001b[0m\u001b[0mtrack\u001b[0m\u001b[0;34m)\u001b[0m\u001b[0;34m]\u001b[0m\u001b[0;34m\u001b[0m\u001b[0;34m\u001b[0m\u001b[0m\n\u001b[0m\u001b[1;32m    476\u001b[0m         \u001b[0;31m# have first part already, only loop while more to receive\u001b[0m\u001b[0;34m\u001b[0m\u001b[0;34m\u001b[0m\u001b[0;34m\u001b[0m\u001b[0m\n",
            "\u001b[0;32mzmq/backend/cython/socket.pyx\u001b[0m in \u001b[0;36mzmq.backend.cython.socket.Socket.recv\u001b[0;34m()\u001b[0m\n",
            "\u001b[0;32mzmq/backend/cython/socket.pyx\u001b[0m in \u001b[0;36mzmq.backend.cython.socket.Socket.recv\u001b[0;34m()\u001b[0m\n",
            "\u001b[0;32mzmq/backend/cython/socket.pyx\u001b[0m in \u001b[0;36mzmq.backend.cython.socket._recv_copy\u001b[0;34m()\u001b[0m\n",
            "\u001b[0;32m/usr/local/lib/python3.6/dist-packages/zmq/backend/cython/checkrc.pxd\u001b[0m in \u001b[0;36mzmq.backend.cython.checkrc._check_rc\u001b[0;34m()\u001b[0m\n",
            "\u001b[0;31mKeyboardInterrupt\u001b[0m: ",
            "\nDuring handling of the above exception, another exception occurred:\n",
            "\u001b[0;31mKeyboardInterrupt\u001b[0m                         Traceback (most recent call last)",
            "\u001b[0;32m<ipython-input-13-ce1d920c446a>\u001b[0m in \u001b[0;36m<module>\u001b[0;34m()\u001b[0m\n\u001b[1;32m     11\u001b[0m \u001b[0;34m\u001b[0m\u001b[0m\n\u001b[1;32m     12\u001b[0m \u001b[0;31m# URLからdeck{'id':'card_num'}を取得\u001b[0m\u001b[0;34m\u001b[0m\u001b[0;34m\u001b[0m\u001b[0;34m\u001b[0m\u001b[0m\n\u001b[0;32m---> 13\u001b[0;31m \u001b[0mdeck_about\u001b[0m \u001b[0;34m=\u001b[0m \u001b[0mencode_cardid_by_url\u001b[0m\u001b[0;34m(\u001b[0m\u001b[0minput\u001b[0m\u001b[0;34m(\u001b[0m\u001b[0;34m)\u001b[0m\u001b[0;34m)\u001b[0m\u001b[0;34m\u001b[0m\u001b[0;34m\u001b[0m\u001b[0m\n\u001b[0m\u001b[1;32m     14\u001b[0m     \u001b[0;31m# \"https://dmps.takaratomy.co.jp/deckbuilder/deck/\" +\u001b[0m\u001b[0;34m\u001b[0m\u001b[0;34m\u001b[0m\u001b[0;34m\u001b[0m\u001b[0m\n\u001b[1;32m     15\u001b[0m     \u001b[0;31m# \"?c=DEAJ.DEAJ.DEAJ.DEAJ.DE99.DE99.DE99.DE99.MQAK.MQAK\" +\u001b[0m\u001b[0;34m\u001b[0m\u001b[0;34m\u001b[0m\u001b[0;34m\u001b[0m\u001b[0m\n",
            "\u001b[0;32m/usr/local/lib/python3.6/dist-packages/ipykernel/kernelbase.py\u001b[0m in \u001b[0;36mraw_input\u001b[0;34m(self, prompt)\u001b[0m\n\u001b[1;32m    702\u001b[0m             \u001b[0mself\u001b[0m\u001b[0;34m.\u001b[0m\u001b[0m_parent_ident\u001b[0m\u001b[0;34m,\u001b[0m\u001b[0;34m\u001b[0m\u001b[0;34m\u001b[0m\u001b[0m\n\u001b[1;32m    703\u001b[0m             \u001b[0mself\u001b[0m\u001b[0;34m.\u001b[0m\u001b[0m_parent_header\u001b[0m\u001b[0;34m,\u001b[0m\u001b[0;34m\u001b[0m\u001b[0;34m\u001b[0m\u001b[0m\n\u001b[0;32m--> 704\u001b[0;31m             \u001b[0mpassword\u001b[0m\u001b[0;34m=\u001b[0m\u001b[0;32mFalse\u001b[0m\u001b[0;34m,\u001b[0m\u001b[0;34m\u001b[0m\u001b[0;34m\u001b[0m\u001b[0m\n\u001b[0m\u001b[1;32m    705\u001b[0m         )\n\u001b[1;32m    706\u001b[0m \u001b[0;34m\u001b[0m\u001b[0m\n",
            "\u001b[0;32m/usr/local/lib/python3.6/dist-packages/ipykernel/kernelbase.py\u001b[0m in \u001b[0;36m_input_request\u001b[0;34m(self, prompt, ident, parent, password)\u001b[0m\n\u001b[1;32m    732\u001b[0m             \u001b[0;32mexcept\u001b[0m \u001b[0mKeyboardInterrupt\u001b[0m\u001b[0;34m:\u001b[0m\u001b[0;34m\u001b[0m\u001b[0;34m\u001b[0m\u001b[0m\n\u001b[1;32m    733\u001b[0m                 \u001b[0;31m# re-raise KeyboardInterrupt, to truncate traceback\u001b[0m\u001b[0;34m\u001b[0m\u001b[0;34m\u001b[0m\u001b[0;34m\u001b[0m\u001b[0m\n\u001b[0;32m--> 734\u001b[0;31m                 \u001b[0;32mraise\u001b[0m \u001b[0mKeyboardInterrupt\u001b[0m\u001b[0;34m\u001b[0m\u001b[0;34m\u001b[0m\u001b[0m\n\u001b[0m\u001b[1;32m    735\u001b[0m             \u001b[0;32melse\u001b[0m\u001b[0;34m:\u001b[0m\u001b[0;34m\u001b[0m\u001b[0;34m\u001b[0m\u001b[0m\n\u001b[1;32m    736\u001b[0m                 \u001b[0;32mbreak\u001b[0m\u001b[0;34m\u001b[0m\u001b[0;34m\u001b[0m\u001b[0m\n",
            "\u001b[0;31mKeyboardInterrupt\u001b[0m: "
          ]
        }
      ]
    },
    {
      "cell_type": "markdown",
      "metadata": {
        "colab_type": "text",
        "id": "jPNFE_qO7NYR"
      },
      "source": [
        "## 出力テスト\n",
        "\n",
        "ちゃんと入力がとれているか確認\n"
      ]
    },
    {
      "cell_type": "code",
      "metadata": {
        "colab_type": "code",
        "id": "PMG4h1UY7NYS",
        "colab": {}
      },
      "source": [
        "deck.print_all()"
      ],
      "execution_count": 0,
      "outputs": []
    },
    {
      "cell_type": "markdown",
      "metadata": {
        "colab_type": "text",
        "id": "RZp-DVJt7NYV"
      },
      "source": [
        "## BASIC+60バリデート\n",
        "\n",
        "レギュレーションに沿っているか確認する。\n",
        "デッキの合計ポイントと合否を出力する。"
      ]
    },
    {
      "cell_type": "code",
      "metadata": {
        "id": "6GfyRvy3_NCJ",
        "colab_type": "code",
        "colab": {}
      },
      "source": [
        "# dmpsカードリストの読み込み\n",
        "dmps_card_db = pd.read_csv(\n",
        "    \"/content/gdrive/My Drive/card_csv/dmps_card_db.csv\",\n",
        "    encoding=\"cp932\",\n",
        "    )\n",
        "\n",
        "# 参加者一覧の読み込み\n",
        "from google.colab import files\n",
        "print(\"参加者一覧のcsvファイルをアップロードしてください。\")\n",
        "file_name = [ key for key in files.upload().keys()][0]\n",
        "tonamel_participants = pd.read_csv(file_name)\n",
        "\n",
        "# 参加者一人ずつ確認していく\n",
        "for index, row in tonamel_participants.iterrows():\n",
        "\n",
        "    # URLからdeck{'id':'card_num'}を取得\n",
        "    num_per_cardid = encode_cardid_by_url(row[\"デッキURL\"])\n",
        "\n",
        "    # Deckにまとめる\n",
        "    deck = Deck(regulation=\"BASIC+60\")\n",
        "    for card_id, num in num_per_cardid.items():\n",
        "        try:\n",
        "            # 一致する行をndarray型で取得\n",
        "            # Todo: 各要素の先頭になぜか空白が入る問題の修正\n",
        "            card_detail = dmps_card_db.query(\"id==@card_id\").to_numpy(copy=True).flatten()\n",
        "            if len(card_detail) == 0: # dbと一致しなかった\n",
        "                raise Exception(card_id + \"と一致するカードがdbにありません。\")\n",
        "            else: # 正常系\n",
        "                card = np.insert(arr=card_detail, obj=1, values=num)\n",
        "                deck.set_card(card)\n",
        "        except Exception as e:\n",
        "            print(\"エラーが発生しました\")\n",
        "            print(e)\n",
        "            print()\n",
        "\n",
        "    # 結果出力\n",
        "    # 誰？\n",
        "    print(index)\n",
        "    print(\"アカウント名\\t= \", row[\"アカウント名\"])\n",
        "    print(\"デッキURL\\t= \", row[\"デッキURL\"])\n",
        "    # 情報\n",
        "    deck.is_pass_validate\n",
        "    deck.print_all()\n",
        "    print()"
      ],
      "execution_count": 0,
      "outputs": []
    },
    {
      "cell_type": "markdown",
      "metadata": {
        "id": "LphUq5YuNQlw",
        "colab_type": "text"
      },
      "source": [
        "ファイル名を取得"
      ]
    },
    {
      "cell_type": "code",
      "metadata": {
        "id": "CJtVGGMgGQ7K",
        "colab_type": "code",
        "colab": {}
      },
      "source": [
        "import glob\n",
        "import pandas as pd\n",
        "glob.glob('dmps_tournament_assist/dmps_cards/*/*.csv')\n",
        "\n",
        "dmps_cards = pd.DataFrame()\n",
        "for card_set in glob.glob('dmps_tournament_assist/dmps_cards/*/*.csv'):\n",
        "  dmps_cards = pd.read_csv(card_set, encoding=\"cp932\")\n",
        "  dmps_cards = dmps_cards[['id', 'name', 'cost', 'series']]\n",
        "  # print(dmps_cards.head()\n",
        "  print(dmps_cards.to_html())"
      ],
      "execution_count": 0,
      "outputs": []
    },
    {
      "cell_type": "markdown",
      "metadata": {
        "id": "CbArWdM2ev3Q",
        "colab_type": "text"
      },
      "source": [
        "---\n",
        "# やり直し"
      ]
    },
    {
      "cell_type": "markdown",
      "metadata": {
        "id": "aabzlcPdQsLg",
        "colab_type": "text"
      },
      "source": [
        "## カード情報csvの読み込み"
      ]
    },
    {
      "cell_type": "markdown",
      "metadata": {
        "colab_type": "text",
        "id": "pkXZfwtQVqI7"
      },
      "source": [
        "### githubのリポジトリごとcolabに持ってくる\n",
        "[こちら](https://github.com/kentokura/dmps_tournament_assist)のリポジトリをクローンします。主に使用するのは以下のファイルです。\n",
        "\n",
        "| ファイル名 | 説明 |\n",
        "| --- | --- |\n",
        "| dmps_cards | カードセットがいくつかのcsvファイルに分かれてあります。|\n",
        "| src | こちらで使う関数が定義されています。 |\n"
      ]
    },
    {
      "cell_type": "code",
      "metadata": {
        "colab_type": "code",
        "outputId": "fb0c2f8b-f0ec-4758-e33f-9d7fe872dddb",
        "id": "687wDbb-VqJB",
        "colab": {
          "base_uri": "https://localhost:8080/",
          "height": 163
        }
      },
      "source": [
        "# リポジトリをクローンする\n",
        "!git clone https://github.com/kentokura/dmps_tournament_assist\n",
        "# 確認\n",
        "!ls dmps_tournament_assist/"
      ],
      "execution_count": 1,
      "outputs": [
        {
          "output_type": "stream",
          "text": [
            "Cloning into 'dmps_tournament_assist'...\n",
            "remote: Enumerating objects: 165, done.\u001b[K\n",
            "remote: Counting objects: 100% (165/165), done.\u001b[K\n",
            "remote: Compressing objects: 100% (119/119), done.\u001b[K\n",
            "remote: Total 165 (delta 43), reused 127 (delta 29), pack-reused 0\u001b[K\n",
            "Receiving objects: 100% (165/165), 494.84 KiB | 5.21 MiB/s, done.\n",
            "Resolving deltas: 100% (43/43), done.\n",
            "dmps_cards  LICENSE  main.ipynb  README.md  src\n"
          ],
          "name": "stdout"
        }
      ]
    },
    {
      "cell_type": "markdown",
      "metadata": {
        "id": "D4XFeFzmWKML",
        "colab_type": "text"
      },
      "source": [
        "### すべてのcsvを一つのDataFrameにする。"
      ]
    },
    {
      "cell_type": "code",
      "metadata": {
        "id": "PSe4V8FHQmm-",
        "colab_type": "code",
        "colab": {
          "base_uri": "https://localhost:8080/",
          "height": 228
        },
        "outputId": "71253591-ae9a-42b9-d3e8-1ecc5a61d0f3"
      },
      "source": [
        "# pd.DataFrame型のdmps_cardsを作成する。\n",
        "import glob\n",
        "import pandas as pd\n",
        "# ファイルパスの取得\n",
        "glob.glob('dmps_tournament_assist/dmps_cards/*/*.csv')\n",
        "\n",
        "# すべてのcsvファイルを読み込む\n",
        "card_set_list = []\n",
        "for card_set in glob.glob('dmps_tournament_assist/dmps_cards/*/*.csv'):\n",
        "  card_set_df = pd.read_csv(card_set, encoding=\"cp932\", index_col=0)\n",
        "  card_set_list.append(card_set_df)\n",
        "dmps_cards = pd.concat(card_set_list, sort=False)\n",
        "\n",
        "# ほしい列だけ取り出す\n",
        "dmps_cards = dmps_cards[['name', 'cost', 'series']]\n",
        "dmps_cards.head(5)"
      ],
      "execution_count": 2,
      "outputs": [
        {
          "output_type": "execute_result",
          "data": {
            "text/html": [
              "<div>\n",
              "<style scoped>\n",
              "    .dataframe tbody tr th:only-of-type {\n",
              "        vertical-align: middle;\n",
              "    }\n",
              "\n",
              "    .dataframe tbody tr th {\n",
              "        vertical-align: top;\n",
              "    }\n",
              "\n",
              "    .dataframe thead th {\n",
              "        text-align: right;\n",
              "    }\n",
              "</style>\n",
              "<table border=\"1\" class=\"dataframe\">\n",
              "  <thead>\n",
              "    <tr style=\"text-align: right;\">\n",
              "      <th></th>\n",
              "      <th>name</th>\n",
              "      <th>cost</th>\n",
              "      <th>series</th>\n",
              "    </tr>\n",
              "    <tr>\n",
              "      <th>id</th>\n",
              "      <th></th>\n",
              "      <th></th>\n",
              "      <th></th>\n",
              "    </tr>\n",
              "  </thead>\n",
              "  <tbody>\n",
              "    <tr>\n",
              "      <th>DYAP</th>\n",
              "      <td>悪魔神バロム</td>\n",
              "      <td>8</td>\n",
              "      <td>超獣の始動</td>\n",
              "    </tr>\n",
              "    <tr>\n",
              "      <th>WQAK</th>\n",
              "      <td>クリスタル・パラディン</td>\n",
              "      <td>4</td>\n",
              "      <td>超獣の始動</td>\n",
              "    </tr>\n",
              "    <tr>\n",
              "      <th>ZUBJ</th>\n",
              "      <td>幻想妖精カチュア</td>\n",
              "      <td>5</td>\n",
              "      <td>伝説の再誕</td>\n",
              "    </tr>\n",
              "    <tr>\n",
              "      <th>NEAG</th>\n",
              "      <td>精霊王アルカディアス</td>\n",
              "      <td>6</td>\n",
              "      <td>超獣の始動</td>\n",
              "    </tr>\n",
              "    <tr>\n",
              "      <th>AUAY</th>\n",
              "      <td>大勇者「ふたつ牙」</td>\n",
              "      <td>6</td>\n",
              "      <td>超獣の始動</td>\n",
              "    </tr>\n",
              "  </tbody>\n",
              "</table>\n",
              "</div>"
            ],
            "text/plain": [
              "             name  cost series\n",
              "id                            \n",
              "DYAP       悪魔神バロム     8  超獣の始動\n",
              "WQAK  クリスタル・パラディン     4  超獣の始動\n",
              "ZUBJ     幻想妖精カチュア     5  伝説の再誕\n",
              "NEAG   精霊王アルカディアス     6  超獣の始動\n",
              "AUAY    大勇者「ふたつ牙」     6  超獣の始動"
            ]
          },
          "metadata": {
            "tags": []
          },
          "execution_count": 2
        }
      ]
    },
    {
      "cell_type": "markdown",
      "metadata": {
        "id": "8fodUX4Sdis6",
        "colab_type": "text"
      },
      "source": [
        "## deckURLを渡したらその情報のpd.dataframeを作成してくれる。"
      ]
    },
    {
      "cell_type": "markdown",
      "metadata": {
        "id": "v057T6etV8xk",
        "colab_type": "text"
      },
      "source": [
        "現在:\n",
        "\n",
        "pd.dataframe型のdmps_cardsにすべての情報が入力されている状況"
      ]
    },
    {
      "cell_type": "code",
      "metadata": {
        "id": "lwqC1kuSeA0p",
        "colab_type": "code",
        "colab": {
          "base_uri": "https://localhost:8080/",
          "height": 247
        },
        "outputId": "5abf9b0f-30c2-47af-a648-b970a35c41a0"
      },
      "source": [
        "import pandas as pd\n",
        "from pandas import DataFrame\n",
        "import numpy as np\n",
        "\n",
        "# URLからdeck{'id':'card_num'}を取得\n",
        "dict_deck_about = encode_cardid_by_url(\n",
        "    \"https://dmps.takaratomy.co.jp/deckbuilder/deck/\" + \n",
        "    \"?c=DEAJ.DEAJ.DEAJ.DEAJ.DE99.DE99.DE99.DE99.MQAK.MQAK\" + \n",
        "    \".MQAK.MQAK.PUAN.PUAN.PUAN.PUAN.4EBF.4EBF.4EBF.4EBF\" + \n",
        "    \".JMAB.JMAB.JMAB.JMAB.4EBU.4EBU.4EBU.4EBU.AAAS.AAAS.AAAS\"+\n",
        "    \".AAAS.4EAR.4EAR.4EAR.4EAR.DEAT.DEAT.DEAT.DEAT&k=DEAJ\") #input())\n",
        "\n",
        "df_deck_about = pd.DataFrame(dict_deck_about, index=['id'])\n",
        "print(df_deck_about)\n",
        "\n",
        "# pd.dataframe型のdeckを作成する\n",
        "for card_id, num in deck_about.items():\n",
        "    try:\n",
        "        # 一致する行をndarray型で取得\n",
        "        # Todo: 各要素の先頭になぜか空白が入る問題の修正\n",
        "        card_detail = dmps_cards.query(\"id==@card_id\").to_numpy(copy=True).flatten()\n",
        "        if len(card_detail) == 0: # dbと一致しなかった\n",
        "            raise Exception(card_id + \"と一致するカードがdbにありません。\")\n",
        "        else: # 正常系\n",
        "            card = np.insert(arr=card_detail, obj=1, values=num)\n",
        "            deck.set_card(card)\n",
        "    except Exception as e:\n",
        "        print(\"エラーが発生しました\")\n",
        "        print(e)\n",
        "        print()\n",
        "\n",
        "# 結果出力"
      ],
      "execution_count": 3,
      "outputs": [
        {
          "output_type": "error",
          "ename": "NameError",
          "evalue": "ignored",
          "traceback": [
            "\u001b[0;31m---------------------------------------------------------------------------\u001b[0m",
            "\u001b[0;31mNameError\u001b[0m                                 Traceback (most recent call last)",
            "\u001b[0;32m<ipython-input-3-8cc64c04a35e>\u001b[0m in \u001b[0;36m<module>\u001b[0;34m()\u001b[0m\n\u001b[1;32m      4\u001b[0m \u001b[0;34m\u001b[0m\u001b[0m\n\u001b[1;32m      5\u001b[0m \u001b[0;31m# URLからdeck{'id':'card_num'}を取得\u001b[0m\u001b[0;34m\u001b[0m\u001b[0;34m\u001b[0m\u001b[0;34m\u001b[0m\u001b[0m\n\u001b[0;32m----> 6\u001b[0;31m dict_deck_about = encode_cardid_by_url(\n\u001b[0m\u001b[1;32m      7\u001b[0m     \u001b[0;34m\"https://dmps.takaratomy.co.jp/deckbuilder/deck/\"\u001b[0m \u001b[0;34m+\u001b[0m\u001b[0;34m\u001b[0m\u001b[0;34m\u001b[0m\u001b[0m\n\u001b[1;32m      8\u001b[0m     \u001b[0;34m\"?c=DEAJ.DEAJ.DEAJ.DEAJ.DE99.DE99.DE99.DE99.MQAK.MQAK\"\u001b[0m \u001b[0;34m+\u001b[0m\u001b[0;34m\u001b[0m\u001b[0;34m\u001b[0m\u001b[0m\n",
            "\u001b[0;31mNameError\u001b[0m: name 'encode_cardid_by_url' is not defined"
          ]
        }
      ]
    },
    {
      "cell_type": "code",
      "metadata": {
        "id": "L3OobU5AeCHk",
        "colab_type": "code",
        "colab": {}
      },
      "source": [
        ""
      ],
      "execution_count": 0,
      "outputs": []
    }
  ]
}