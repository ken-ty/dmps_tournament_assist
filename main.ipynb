{
  "nbformat": 4,
  "nbformat_minor": 0,
  "metadata": {
    "colab": {
      "name": "main.ipynb",
      "provenance": [],
      "collapsed_sections": [
        "848frebOTmOC",
        "Ay0sWPku51jq",
        "vHg6o0Zu1Ucq",
        "blRwQchP_tJU",
        "h-xx3iIR_7_d",
        "421OsO0Z7NYG",
        "jYL9aZHS7NYK"
      ],
      "authorship_tag": "ABX9TyMzCQB6euAy7nfDpUkrMVCU",
      "include_colab_link": true
    },
    "kernelspec": {
      "name": "python3",
      "display_name": "Python 3"
    }
  },
  "cells": [
    {
      "cell_type": "markdown",
      "metadata": {
        "id": "view-in-github",
        "colab_type": "text"
      },
      "source": [
        "<a href=\"https://colab.research.google.com/github/kentokura/dmps_tournament_assist/blob/master/main.ipynb\" target=\"_parent\"><img src=\"https://colab.research.google.com/assets/colab-badge.svg\" alt=\"Open In Colab\"/></a>"
      ]
    },
    {
      "cell_type": "markdown",
      "metadata": {
        "id": "848frebOTmOC",
        "colab_type": "text"
      },
      "source": [
        "# What's notebook?\n",
        "\n",
        "このノートは、アプリ「[DUEL MASTERS PLAY’S（デュエル・マスターズ プレイス）](https://tonamel.com/competition/hi9my)」の特殊レギュレーション大会を開催するにあたり、主催者が行わなければならない大量のデッキの確認を自動化してくれます。レギュレーションの対応は検討中です。<!-- BASIC+40, BASIC+60, ハイランダーに対応しています。 -->"
      ]
    },
    {
      "cell_type": "markdown",
      "metadata": {
        "id": "zf04buNly6mO",
        "colab_type": "text"
      },
      "source": [
        "## Tonamelについて\n",
        "\n",
        "[Tonamel](https://tonamel.com/)を使えば、誰でも簡単に大会を開催・運営できます。エントリーから大会終了までに必要な機能が揃っています。\n",
        "\n",
        "特に、主催者は参加者情報をcsv形式でダウンロードでき、デュエプレ公式ページからデッキURLを作成して申し込み時に入力してもらうことで、**参加者とそのデッキの情報をcsv形式で取得**することができます。\n"
      ]
    },
    {
      "cell_type": "markdown",
      "metadata": {
        "id": "X_YbLnAG0yJM",
        "colab_type": "text"
      },
      "source": [
        "## 大会ひな型\n",
        "---\n",
        "\n",
        "【デュエプレ　特殊レギュレーション大会】\n",
        "BASIC+60_β杯を開催します。\n",
        "以下の説明を読んで、応募してください。\n",
        "\n",
        "# BASIC+60とは？\n",
        "カードの各レアリティにポイントが割り振られています。 60ポイント以内に収まるようにデッキを構築し、対戦します。\n",
        "ポイントは、以下の通りです:\n",
        "- レア度 ... 1枚当たりのポイント\n",
        "- BASIC ... 0   p/1枚\n",
        "- C .......... 2   p/1枚\n",
        "- UC ........ 4   p/1枚\n",
        "- R........... 8   p/1枚\n",
        "- VR ........ 12 p/1枚\n",
        "- SR ........ 20 p/1枚\n",
        "\n",
        "また、一部カードはレア度変更してカウントいたします。\n",
        "- 調整カード名 ............ レア度の扱い\n",
        "- ジェノサイドワーム ...  BASIC → C\n",
        "- クエイクゲート .........  C → UC\n",
        "\n",
        "# デッキ提出\n",
        "デュエプレ公式サイト(https://dmps.takaratomy.co.jp/deckbuilder/create/)\n",
        "からデッキのURLを作成してください。\n",
        "エントリー時に提出します。\n",
        "\n",
        "# 賞金\n",
        "ないよ。\n",
        "\n",
        "# 注意事項\n",
        "\n",
        "参加される方は、以下を全て読んでください。\n",
        "\n",
        "・20:55までには主の配信(https://www.mirrativ.com/user/99939804)に参加してください。\n",
        "・開始時刻までに来ない場合やデッキの確認が取れない場合、\n",
        "　その他運営の進行を妨げると判断した場合には参加をキャンセルする場合があります。\n",
        "・勝敗について虚偽の報告がある場合、それを嘘だと判断する証拠がない場合は、\n",
        "　両者失格・キックする場合がございます。勝者は勝敗が確定時のスクリーンショットを\n",
        "　取っておくことをお勧めいたします。\n",
        "・デッキは後日公開させていただく場合がございます。あらかじめご了承ください。\n",
        "・参加をキャンセルされる場合は、なるべく早くご連絡お願いいたします"
      ]
    },
    {
      "cell_type": "markdown",
      "metadata": {
        "id": "Ay0sWPku51jq",
        "colab_type": "text"
      },
      "source": [
        "# やりたいこと"
      ]
    },
    {
      "cell_type": "markdown",
      "metadata": {
        "id": "Kb2vKYnM54V1",
        "colab_type": "text"
      },
      "source": [
        "[Tonamel](https://tonamel.com/)からダウンロードできる参加者情報のcsvファイルを入力し、デッキ確認結果を出力する。\n"
      ]
    },
    {
      "cell_type": "markdown",
      "metadata": {
        "id": "vHg6o0Zu1Ucq",
        "colab_type": "text"
      },
      "source": [
        "# 処理(モックアップ)"
      ]
    },
    {
      "cell_type": "markdown",
      "metadata": {
        "id": "JMjVa4CC2ShQ",
        "colab_type": "text"
      },
      "source": [
        "## 準備"
      ]
    },
    {
      "cell_type": "markdown",
      "metadata": {
        "id": "s6HxCHar_aMb",
        "colab_type": "text"
      },
      "source": [
        "### [1] GDriveをマウントする。\n",
        "\n",
        "ここからカード情報のcsvを読み込む。\n",
        "\n"
      ]
    },
    {
      "cell_type": "code",
      "metadata": {
        "id": "kMCHJxAeuNho",
        "colab_type": "code",
        "outputId": "1bbd2ebc-64fa-4a80-891f-57856445c7eb",
        "cellView": "code",
        "colab": {
          "base_uri": "https://localhost:8080/",
          "height": 35
        }
      },
      "source": [
        "# driveのマウント\n",
        "from google.colab import drive\n",
        "drive.mount('/content/gdrive')"
      ],
      "execution_count": 27,
      "outputs": [
        {
          "output_type": "stream",
          "text": [
            "Drive already mounted at /content/gdrive; to attempt to forcibly remount, call drive.mount(\"/content/gdrive\", force_remount=True).\n"
          ],
          "name": "stdout"
        }
      ]
    },
    {
      "cell_type": "markdown",
      "metadata": {
        "id": "blRwQchP_tJU",
        "colab_type": "text"
      },
      "source": [
        "### [2] **Deckクラス**の作成\n",
        "\n",
        "コードの可読性を上げるためにクラスを作る。"
      ]
    },
    {
      "cell_type": "code",
      "metadata": {
        "id": "4CEj7wbV74iZ",
        "colab_type": "code",
        "colab": {}
      },
      "source": [
        "class Deck():\n",
        "    \"\"\"\n",
        "    デッキ内のカード情報やヘルパー関数を保持する。\n",
        "\n",
        "    Attributes\n",
        "    ----------\n",
        "    cards : list\n",
        "        カード情報。\n",
        "    \"\"\"\n",
        "\n",
        "\n",
        "    def __init__(self):\n",
        "        \"\"\"\n",
        "        Parameters\n",
        "        ----------\n",
        "        cards : list\n",
        "            カード情報。\n",
        "        card_num : int\n",
        "            デッキ内のカード枚数\n",
        "        \"\"\"\n",
        "        self.cards = {} # {id : detail=[num, ...]}\n",
        "        self.card_num = 0\n",
        "\n",
        "    def set_card(self, detail):\n",
        "        \"\"\"\n",
        "        カード情報をセットする。\n",
        "\n",
        "        Parameters\n",
        "        ----------\n",
        "        num : int\n",
        "            カード枚数。\n",
        "        detail : ndarray\n",
        "            カード詳細。\n",
        "        \"\"\"\n",
        "        self.cards[detail[0]] = detail[1:]\n",
        "        self.card_num += detail[1]\n",
        "\n",
        "    def print_all(self):\n",
        "        \"\"\"\n",
        "        デッキの内容を出力する。\n",
        "        \"\"\"\n",
        "        print(\"カード枚数: \" + str(self.card_num))\n",
        "        for card in self.cards.values():\n",
        "            print(card)"
      ],
      "execution_count": 0,
      "outputs": []
    },
    {
      "cell_type": "markdown",
      "metadata": {
        "id": "h-xx3iIR_7_d",
        "colab_type": "text"
      },
      "source": [
        "### [3] 便利な関数\n",
        "\n",
        "- **encode_cardid_by_url(url: str) -> dict**の作成\n",
        "\n",
        "  URLの前処理を行う。"
      ]
    },
    {
      "cell_type": "code",
      "metadata": {
        "id": "GvQHRL_k1S-H",
        "colab_type": "code",
        "colab": {}
      },
      "source": [
        "def encode_cardid_by_url(url: str) -> dict: \n",
        "    \"\"\"\n",
        "    URLから、カードidごとの枚数の辞書を作成する。\n",
        "\n",
        "    Parameters\n",
        "    ----------\n",
        "    url : str\n",
        "        デッキURL。\n",
        "    \n",
        "    Returns\n",
        "    -------\n",
        "    deck : dict of { str, int }\n",
        "        カードの種類ごとの枚数。    \n",
        "    \"\"\"\n",
        "    try:\n",
        "        # 型の確認\n",
        "        if type(url) != type(\"string\"):\n",
        "            raise Exception(\"URLは文字列で指定してください\")\n",
        "\n",
        "        # URLからカードidを取得\n",
        "        site_url, card_url = url.split(\"c=\")\n",
        "        card_url, key_card_url = card_url.split(\"&\")\n",
        "        arr_card_id = card_url.split(\".\")\n",
        "\n",
        "        # 40枚なかったらエラーを返す\n",
        "        if len(arr_card_id) != 40:\n",
        "            raise Exception(\"カードが40枚ありません\")\n",
        "        \n",
        "        deck = { card_id: arr_card_id.count(card_id) for card_id in arr_card_id }\n",
        "    \n",
        "        return deck\n",
        "\n",
        "    except Exception as e:\n",
        "        print(\"エラーが発生しました\")\n",
        "        print(e)\n"
      ],
      "execution_count": 0,
      "outputs": []
    },
    {
      "cell_type": "markdown",
      "metadata": {
        "id": "OWQQstouS4Zw",
        "colab_type": "text"
      },
      "source": [
        "## 入力\n",
        "\n",
        "1. csvを読み込む\n",
        "1. URLからcardidごとの枚数を取得\n",
        "1. 取得したデータとcsvからデッキ情報を作成"
      ]
    },
    {
      "cell_type": "code",
      "metadata": {
        "id": "5JLmVeqbtYJN",
        "colab_type": "code",
        "outputId": "d6279729-a2dc-4781-a6b3-ad1708146943",
        "colab": {
          "base_uri": "https://localhost:8080/",
          "height": 72
        }
      },
      "source": [
        "import pandas as pd\n",
        "from pandas import DataFrame\n",
        "import numpy as np\n",
        "\n",
        "# csvの読み込み\n",
        "dmps_card_db = pd.read_csv(\n",
        "    \"/content/gdrive/My Drive/card_csv/dmps_card_db.csv\",\n",
        "    encoding=\"cp932\",\n",
        "    )\n",
        "\n",
        "# URLからdeck{'id':'card_num'}を取得\n",
        "deck_about = encode_cardid_by_url(\n",
        "    \"https://dmps.takaratomy.co.jp/deckbuilder/deck/\" + \n",
        "    \"?c=DEAJ.DEAJ.DEAJ.DEAJ.DE99.DE99.DE99.DE99.MQAK.MQAK\" + \n",
        "    \".MQAK.MQAK.PUAN.PUAN.PUAN.PUAN.4EBF.4EBF.4EBF.4EBF\" + \n",
        "    \".JMAB.JMAB.JMAB.JMAB.4EBU.4EBU.4EBU.4EBU.AAAS.AAAS.AAAS\"+\n",
        "    \".AAAS.4EAR.4EAR.4EAR.4EAR.DEAT.DEAT.DEAT.DEAT&k=DEAJ\"\n",
        "    )#input())\n",
        "\n",
        "# Deckにまとめる\n",
        "deck = Deck()\n",
        "for card_id, num in deck_about.items():\n",
        "    try:\n",
        "        # 一致する行をndarray型で取得\n",
        "        # Todo: 各要素の先頭になぜか空白が入る問題の修正\n",
        "        card_detail = dmps_card_db.query(\"id==@card_id\").to_numpy(copy=True).flatten()\n",
        "        if len(card_detail) == 0: # dbと一致しなかった\n",
        "            raise Exception(card_id + \"と一致するカードがdbにありません。\")\n",
        "        else: # 正常系\n",
        "            card = np.insert(arr=card_detail, obj=1, values=num)\n",
        "            deck.set_card(card)\n",
        "    except Exception as e:\n",
        "        print(\"エラーが発生しました\")\n",
        "        print(e)\n",
        "        print()\n",
        "\n",
        "# 結果出力\n",
        "# deck.print_all()\n",
        "\n",
        "# for card_detail in card_details:\n",
        "#     print(card_detail)"
      ],
      "execution_count": 30,
      "outputs": [
        {
          "output_type": "stream",
          "text": [
            "エラーが発生しました\n",
            "DE99と一致するカードがdbにありません。\n",
            "\n"
          ],
          "name": "stdout"
        }
      ]
    },
    {
      "cell_type": "markdown",
      "metadata": {
        "id": "i5uSJEEp3X1W",
        "colab_type": "text"
      },
      "source": [
        "## 出力テスト\n",
        "\n",
        "ちゃんと入力がとれているか確認\n"
      ]
    },
    {
      "cell_type": "code",
      "metadata": {
        "id": "wpaTErb63f-b",
        "colab_type": "code",
        "outputId": "adefc0ae-d866-4947-b630-ab458b26cf96",
        "colab": {
          "base_uri": "https://localhost:8080/",
          "height": 199
        }
      },
      "source": [
        "deck.print_all()"
      ],
      "execution_count": 31,
      "outputs": [
        {
          "output_type": "stream",
          "text": [
            "カード枚数: 36\n",
            "[4 '予言者ジェス' ' ライトブリンガー' ' ' ' C' 1 ' 光' ' ' ' クリーチャー']\n",
            "[4 'プロテクト・フォース' ' 呪文' ' ' ' C' 1 ' 光' ' ' ' 呪文']\n",
            "[4 'ゼピメテウス' ' シー・ハッカー' ' ' ' C' 1 ' 水' ' ' ' クリーチャー']\n",
            "[4 'トリア' ' サイバーロード' ' ' ' C' 1 ' 水' ' ' ' クリーチャー']\n",
            "[4 'アクア・ガード' ' リキッド・ピープル' ' ' ' BASIC' 1 ' 水' ' ' ' クリーチャー']\n",
            "[4 '孤独の影ロンリー・ウォーカー' ' ゴースト' ' ' ' UC' 1 ' 闇' ' ' ' クリーチャー']\n",
            "[4 'ねじれる者ボーン・スライム' ' リビング・デッド' ' ' ' C' 1 ' 闇' ' ' ' クリーチャー']\n",
            "[4 '暴虐虫タイラント・ワーム' ' パラサイトワーム' ' ' ' C' 1 ' 闇' ' ' ' クリーチャー']\n",
            "[4 'ブラック・スレイヤー' ' 呪文' ' ' ' C' 1 ' 闇' ' ' ' 呪文']\n"
          ],
          "name": "stdout"
        }
      ]
    },
    {
      "cell_type": "markdown",
      "metadata": {
        "id": "9hqa7PZ-TY7Y",
        "colab_type": "text"
      },
      "source": [
        "## BASIC+60バリデート\n",
        "\n",
        "レギュレーションに沿っているか確認する。\n",
        "デッキの合計ポイントと合否を出力する。"
      ]
    },
    {
      "cell_type": "code",
      "metadata": {
        "id": "Z49XufoBV99U",
        "colab_type": "code",
        "outputId": "2299e551-34fa-411c-9a2c-d21e42164091",
        "colab": {
          "base_uri": "https://localhost:8080/",
          "height": 72
        }
      },
      "source": [
        "# ポイント上限\n",
        "point_max = 60\n",
        "\n",
        "# カード枚数の確認\n",
        "print(\"カード枚数\\t: \",deck.card_num)\n",
        "\n",
        "# ポイントの確認\n",
        "total_point = 0\n",
        "for card in deck.cards.values():\n",
        "    point = 0\n",
        "    # 空白が入っていることに注意\n",
        "    if card[4] == ' BASIC':\n",
        "        point = 0\n",
        "    elif card[4] == ' C':\n",
        "        point = 2\n",
        "    elif card[4] == ' UC':\n",
        "        point = 4\n",
        "    elif card[4] == ' R':\n",
        "        point = 4\n",
        "    elif card[4] == ' VR':\n",
        "        point = 4\n",
        "    elif card[4] == ' SR':\n",
        "        point = 4\n",
        "    else:\n",
        "        print(\"レア度が不正です。\")\n",
        "    \n",
        "    total_point += point*card[0]\n",
        "\n",
        "print(\"合計ポイント\\t: \",total_point)\n",
        "\n",
        "if total_point > point_max:\n",
        "    print(\"判定\\t\\t: \",\"OUT\")\n",
        "else:\n",
        "    print(\"判定\\t\\t: \",\"OK\")"
      ],
      "execution_count": 32,
      "outputs": [
        {
          "output_type": "stream",
          "text": [
            "カード枚数\t:  36\n",
            "合計ポイント\t:  72\n",
            "判定\t\t:  OUT\n"
          ],
          "name": "stdout"
        }
      ]
    },
    {
      "cell_type": "markdown",
      "metadata": {
        "id": "3IiCMVDO7F0I",
        "colab_type": "text"
      },
      "source": [
        "# 処理(ガチ)"
      ]
    },
    {
      "cell_type": "markdown",
      "metadata": {
        "colab_type": "text",
        "id": "UdWkv3_H7NX9"
      },
      "source": [
        "## 準備"
      ]
    },
    {
      "cell_type": "markdown",
      "metadata": {
        "id": "vgUvG3Fp_f0o",
        "colab_type": "text"
      },
      "source": [
        "### 必要なデータをダウンロード\n",
        "[こちら](https://github.com/kentokura/dmps_tournament_assist)のリポジトリをクローンします。主に使用するのは以下のファイルです。\n",
        "\n",
        "| ファイル名 | 説明 |\n",
        "| --- | --- |\n",
        "| dmps_cards | カードセットがいくつかのcsvファイルに分かれてあります。|\n",
        "| src | こちらで使う関数が定義されています。 |\n"
      ]
    },
    {
      "cell_type": "code",
      "metadata": {
        "id": "1y9vcafOEUAZ",
        "colab_type": "code",
        "outputId": "c6392274-8cee-40e5-fd2b-688c513ebba9",
        "colab": {
          "base_uri": "https://localhost:8080/",
          "height": 54
        }
      },
      "source": [
        "# リポジトリをクローンする\n",
        "!git clone https://github.com/kentokura/dmps_tournament_assist\n",
        "# 確認\n",
        "!ls dmps_tournament_assist/"
      ],
      "execution_count": 0,
      "outputs": [
        {
          "output_type": "stream",
          "text": [
            "fatal: destination path 'dmps_tournament_assist' already exists and is not an empty directory.\n",
            "dmps_cards  LICENSE  README.md\tsrc\n"
          ],
          "name": "stdout"
        }
      ]
    },
    {
      "cell_type": "markdown",
      "metadata": {
        "colab_type": "text",
        "id": "_LNaHeFu7NX-"
      },
      "source": [
        "### [1] GDriveをマウントする。\n",
        "\n",
        "ここからカード情報のcsvを読み込む。\n",
        "\n"
      ]
    },
    {
      "cell_type": "code",
      "metadata": {
        "colab_type": "code",
        "outputId": "6ee1e79d-4af8-4f75-887c-3424cb194e39",
        "cellView": "code",
        "id": "SkzhUoZ_7NX_",
        "colab": {
          "base_uri": "https://localhost:8080/",
          "height": 55
        }
      },
      "source": [
        "# driveのマウント\n",
        "from google.colab import drive\n",
        "drive.mount('/content/gdrive')"
      ],
      "execution_count": 33,
      "outputs": [
        {
          "output_type": "stream",
          "text": [
            "Drive already mounted at /content/gdrive; to attempt to forcibly remount, call drive.mount(\"/content/gdrive\", force_remount=True).\n"
          ],
          "name": "stdout"
        }
      ]
    },
    {
      "cell_type": "markdown",
      "metadata": {
        "colab_type": "text",
        "id": "421OsO0Z7NYG"
      },
      "source": [
        "### [2] **Deckクラス**の作成\n",
        "\n",
        "コードの可読性を上げるためにクラスを作る。"
      ]
    },
    {
      "cell_type": "code",
      "metadata": {
        "colab_type": "code",
        "id": "ftzvxfQ57NYH",
        "colab": {}
      },
      "source": [
        "class Deck():\n",
        "    \"\"\"\n",
        "    デッキ内のカード情報やヘルパー関数を保持する。\n",
        "\n",
        "    Attributes\n",
        "    ----------\n",
        "    cards : list\n",
        "        カード情報。\n",
        "    card_num : int\n",
        "        デッキ内のカード枚数。\n",
        "    regulation : str\n",
        "        大会レギュレーション。\n",
        "    is_pass_validate : bool\n",
        "        regulationに沿った検査の結果。\n",
        "\n",
        "    \"\"\"\n",
        "\n",
        "\n",
        "    def __init__(self, regulation='Nomal'):\n",
        "        \"\"\"\n",
        "        Parameters\n",
        "        ----------\n",
        "        cards : list\n",
        "            カード情報。\n",
        "        card_num : int\n",
        "            デッキ内のカード枚数。\n",
        "        regulation : str\n",
        "            大会レギュレーション。\n",
        "        is_pass_validate : bool\n",
        "            regulationに沿った検査の結果。\n",
        "        \"\"\"\n",
        "        self.cards = {} # {id : detail=[num, ...]}\n",
        "        self.card_num = 0\n",
        "        self.regulation = regulation\n",
        "        self.is_pass_validate = False\n",
        "\n",
        "    def set_card(self, detail):\n",
        "        \"\"\"\n",
        "        カード情報をセットする。\n",
        "\n",
        "        Parameters\n",
        "        ----------\n",
        "        num : int\n",
        "            カード枚数。\n",
        "        detail : ndarray\n",
        "            カード詳細。\n",
        "        \"\"\"\n",
        "        self.cards[detail[0]] = detail[1:]\n",
        "        self.card_num += detail[1]\n",
        "\n",
        "    def print_all(self):\n",
        "        \"\"\"\n",
        "        デッキの内容を出力する。\n",
        "        \"\"\"\n",
        "        print(\"カード枚数: \" + str(self.card_num))\n",
        "        for card in self.cards.values():\n",
        "            print(card)\n",
        "    \n",
        "    def validate(self):\n",
        "        \"\"\"\n",
        "        確認する。\n",
        "        \"\"\"\n",
        "        if self.regulation == 'Nomal':\n",
        "            self.is_pass_validate = True\n",
        "        elif self.regulation == 'BASIC+60':\n",
        "            # ポイント上限\n",
        "            point_max = 60\n",
        "\n",
        "            # カード枚数の確認\n",
        "            # print(\"カード枚数\\t: \",self.card_num)\n",
        "\n",
        "            # ポイントの確認\n",
        "            total_point = 0\n",
        "            for card in self.cards.values():\n",
        "                point = 0\n",
        "                # 空白が入っていることに注意\n",
        "                if card[4] == ' BASIC':\n",
        "                    point = 0\n",
        "                elif card[4] == ' C':\n",
        "                    point = 2\n",
        "                elif card[4] == ' UC':\n",
        "                    point = 4\n",
        "                elif card[4] == ' R':\n",
        "                    point = 4\n",
        "                elif card[4] == ' VR':\n",
        "                    point = 4\n",
        "                elif card[4] == ' SR':\n",
        "                    point = 4\n",
        "                else:\n",
        "                    print(\"レア度が不正です。\")\n",
        "                \n",
        "                total_point += point*card[0]\n",
        "\n",
        "            # print(\"合計ポイント\\t: \",total_point)\n",
        "\n",
        "            if total_point > point_max:\n",
        "                # print(\"判定\\t\\t: \",\"OUT\")\n",
        "                self.is_pass_validate == False\n",
        "            else:\n",
        "                # print(\"判定\\t\\t: \",\"OK\")\n",
        "                self.is_pass_validate == True"
      ],
      "execution_count": 0,
      "outputs": []
    },
    {
      "cell_type": "markdown",
      "metadata": {
        "colab_type": "text",
        "id": "jYL9aZHS7NYK"
      },
      "source": [
        "### [3] 便利な関数\n",
        "\n",
        "- **encode_cardid_by_url(url: str) -> dict**の作成\n",
        "\n",
        "  URLの前処理を行う。"
      ]
    },
    {
      "cell_type": "code",
      "metadata": {
        "colab_type": "code",
        "id": "5j1V3zWo7NYL",
        "colab": {}
      },
      "source": [
        "def encode_cardid_by_url(url: str) -> dict: \n",
        "    \"\"\"\n",
        "    URLから、カードidごとの枚数の辞書を作成する。\n",
        "\n",
        "    Parameters\n",
        "    ----------\n",
        "    url : str\n",
        "        デッキURL。\n",
        "    \n",
        "    Returns\n",
        "    -------\n",
        "    deck : dict of { str, int }\n",
        "        カードの種類ごとの枚数。    \n",
        "    \"\"\"\n",
        "    try:\n",
        "        # 型の確認\n",
        "        if type(url) != type(\"string\"):\n",
        "            raise Exception(\"URLは文字列で指定してください\")\n",
        "\n",
        "        # URLからカードidを取得\n",
        "        site_url, card_url = url.split(\"c=\")\n",
        "        card_url, key_card_url = card_url.split(\"&\")\n",
        "        arr_card_id = card_url.split(\".\")\n",
        "\n",
        "        # 40枚なかったらエラーを返す\n",
        "        if len(arr_card_id) != 40:\n",
        "            raise Exception(\"カードが40枚ありません\")\n",
        "        \n",
        "        deck = { card_id: arr_card_id.count(card_id) for card_id in arr_card_id }\n",
        "    \n",
        "        return deck\n",
        "\n",
        "    except Exception as e:\n",
        "        print(\"エラーが発生しました\")\n",
        "        print(e)\n"
      ],
      "execution_count": 0,
      "outputs": []
    },
    {
      "cell_type": "markdown",
      "metadata": {
        "colab_type": "text",
        "id": "ta41wwbO7NYN"
      },
      "source": [
        "## 入力\n",
        "\n",
        "1. csvを読み込む\n",
        "1. URLからcardidごとの枚数を取得\n",
        "1. 取得したデータとcsvからデッキ情報を作成"
      ]
    },
    {
      "cell_type": "code",
      "metadata": {
        "id": "judh8VLAEDTC",
        "colab_type": "code",
        "colab": {
          "base_uri": "https://localhost:8080/",
          "height": 35
        },
        "outputId": "2c28f0d1-1927-4d0f-ba5d-9c3301f2e726"
      },
      "source": [
        "!ls "
      ],
      "execution_count": 54,
      "outputs": [
        {
          "output_type": "stream",
          "text": [
            "dmps_tournament_assist\tgdrive\tsample_data\n"
          ],
          "name": "stdout"
        }
      ]
    },
    {
      "cell_type": "code",
      "metadata": {
        "colab_type": "code",
        "outputId": "37112395-05dd-4e0d-8159-3f9de063ecd2",
        "id": "qLeb3SsD7NYO",
        "colab": {
          "base_uri": "https://localhost:8080/",
          "height": 219
        }
      },
      "source": [
        "import pandas as pd\n",
        "from pandas import DataFrame\n",
        "import numpy as np\n",
        "\n",
        "# csvの読み込み\n",
        "dmps_card_db = pd.read_csv(\n",
        "    \"/content/gdrive/My Drive/card_csv/dmps_card_db.csv\",\n",
        "    encoding=\"cp932\",\n",
        "    )\n",
        "\n",
        "# URLからdeck{'id':'card_num'}を取得\n",
        "deck_about = encode_cardid_by_url(input())\n",
        "    # \"https://dmps.takaratomy.co.jp/deckbuilder/deck/\" + \n",
        "    # \"?c=DEAJ.DEAJ.DEAJ.DEAJ.DE99.DE99.DE99.DE99.MQAK.MQAK\" + \n",
        "    # \".MQAK.MQAK.PUAN.PUAN.PUAN.PUAN.4EBF.4EBF.4EBF.4EBF\" + \n",
        "    # \".JMAB.JMAB.JMAB.JMAB.4EBU.4EBU.4EBU.4EBU.AAAS.AAAS.AAAS\"+\n",
        "    # \".AAAS.4EAR.4EAR.4EAR.4EAR.DEAT.DEAT.DEAT.DEAT&k=DEAJ\"\n",
        "    # )#input())\n",
        "\n",
        "# Deckにまとめる\n",
        "deck = Deck(regulation=\"BASIC+60\")\n",
        "for card_id, num in deck_about.items():\n",
        "    try:\n",
        "        # 一致する行をndarray型で取得\n",
        "        # Todo: 各要素の先頭になぜか空白が入る問題の修正\n",
        "        card_detail = dmps_card_db.query(\"id==@card_id\").to_numpy(copy=True).flatten()\n",
        "        if len(card_detail) == 0: # dbと一致しなかった\n",
        "            raise Exception(card_id + \"と一致するカードがdbにありません。\")\n",
        "        else: # 正常系\n",
        "            card = np.insert(arr=card_detail, obj=1, values=num)\n",
        "            deck.set_card(card)\n",
        "    except Exception as e:\n",
        "        print(\"エラーが発生しました\")\n",
        "        print(e)\n",
        "        print()\n",
        "\n",
        "# 結果出力\n",
        "# deck.print_all()\n",
        "\n",
        "# for card_detail in card_details:\n",
        "#     print(card_detail)"
      ],
      "execution_count": 36,
      "outputs": [
        {
          "output_type": "stream",
          "text": [
            "https://dmps.takaratomy.co.jp/deckbuilder/deck/?c=DEAJ.DEAJ.DEAJ.DEAJ.DE99.DE99.DE99.DE99.MQAK.MQAK.MQAK.MQAK.PUAN.PUAN.PUAN.PUAN.ZAAN.ZAAN.ZAAN.ZAAN.ZAAZ.ZAAZ.MQ10.MQ10.JMAU.JMAU.PU09.PU09.4EBI.MQBS.4EAV.AABJ.SYBS.SYBS.ZABK.G4BI.G4BI.GIBI.V4BV.V4BV&k=G4BI\n",
            "エラーが発生しました\n",
            "DE99と一致するカードがdbにありません。\n",
            "\n",
            "エラーが発生しました\n",
            "MQ10と一致するカードがdbにありません。\n",
            "\n",
            "エラーが発生しました\n",
            "PU09と一致するカードがdbにありません。\n",
            "\n"
          ],
          "name": "stdout"
        }
      ]
    },
    {
      "cell_type": "markdown",
      "metadata": {
        "colab_type": "text",
        "id": "jPNFE_qO7NYR"
      },
      "source": [
        "## 出力テスト\n",
        "\n",
        "ちゃんと入力がとれているか確認\n"
      ]
    },
    {
      "cell_type": "code",
      "metadata": {
        "colab_type": "code",
        "outputId": "851ec8d2-e323-4f88-9671-5826a28745e3",
        "id": "PMG4h1UY7NYS",
        "colab": {
          "base_uri": "https://localhost:8080/",
          "height": 308
        }
      },
      "source": [
        "deck.print_all()"
      ],
      "execution_count": 37,
      "outputs": [
        {
          "output_type": "stream",
          "text": [
            "カード枚数: 32\n",
            "[4 '予言者ジェス' ' ライトブリンガー' ' ' ' C' 1 ' 光' ' ' ' クリーチャー']\n",
            "[4 'プロテクト・フォース' ' 呪文' ' ' ' C' 1 ' 光' ' ' ' 呪文']\n",
            "[4 'ゼピメテウス' ' シー・ハッカー' ' ' ' C' 1 ' 水' ' ' ' クリーチャー']\n",
            "[4 'アルオム' ' サイバーロード' ' ' ' C' 2 ' 水' ' ' ' クリーチャー']\n",
            "[2 'シビレアシダケ' ' バルーン・マッシュルーム' ' ' ' UC' 2 ' 自然' ' ' ' クリーチャー']\n",
            "[2 'トット・ピピッチ' ' ファイアー・バード' ' ' ' R' 3 ' 火' ' ' ' クリーチャー']\n",
            "[1 'ボルシャック・ルピア' ' ファイアー・バード' ' ' ' UC' 4 ' 火' ' ' ' クリーチャー']\n",
            "[1 'ゲット・レディ' ' 呪文' ' ' ' UC' 5 ' 光' ' ' ' 呪文']\n",
            "[1 'ガザリアス・ドラゴン' ' アーマード・ドラゴン' ' ' ' UC' 5 ' 火' ' ' ' クリーチャー']\n",
            "[1 '爆竜兵ドラグストライク' ' ドラゴノイド' ' ' ' UC' 5 ' 火' ' ' ' クリーチャー']\n",
            "[2 '飛雲の求道者ダバ・トーレ' ' メガサンダー' ' ' ' UC' 6 ' 光' ' ' ' クリーチャー']\n",
            "[1 '緑神龍アンリストヴァル' ' アース・ドラゴン' ' ' ' UC' 6 ' 自然' ' ' ' クリーチャー']\n",
            "[2 '超龍バジュラ(SEC)' ' アーマード・ドラゴン' ' ' ' SR' 7 ' 火' ' ' ' クリーチャー']\n",
            "[1 '超龍バジュラ' ' アーマード・ドラゴン' ' ' ' SR' 7 ' 火' ' ' ' クリーチャー']\n",
            "[2 'ガルクライフ・ドラゴン' ' アーマード・ドラゴン' ' ' ' SR' 7 ' 火' ' ' ' クリーチャー']\n"
          ],
          "name": "stdout"
        }
      ]
    },
    {
      "cell_type": "markdown",
      "metadata": {
        "colab_type": "text",
        "id": "RZp-DVJt7NYV"
      },
      "source": [
        "## BASIC+60バリデート\n",
        "\n",
        "レギュレーションに沿っているか確認する。\n",
        "デッキの合計ポイントと合否を出力する。"
      ]
    },
    {
      "cell_type": "code",
      "metadata": {
        "id": "6GfyRvy3_NCJ",
        "colab_type": "code",
        "outputId": "b210b050-2009-4b4a-a4a6-97ecd7ace5f6",
        "colab": {
          "resources": {
            "http://localhost:8080/nbextensions/google.colab/files.js": {
              "data": "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",
              "ok": true,
              "headers": [
                [
                  "content-type",
                  "application/javascript"
                ]
              ],
              "status": 200,
              "status_text": ""
            }
          },
          "base_uri": "https://localhost:8080/",
          "height": 1000
        }
      },
      "source": [
        "# dmpsカードリストの読み込み\n",
        "dmps_card_db = pd.read_csv(\n",
        "    \"/content/gdrive/My Drive/card_csv/dmps_card_db.csv\",\n",
        "    encoding=\"cp932\",\n",
        "    )\n",
        "\n",
        "# 参加者一覧の読み込み\n",
        "from google.colab import files\n",
        "print(\"参加者一覧のcsvファイルをアップロードしてください。\")\n",
        "file_name = [ key for key in files.upload().keys()][0]\n",
        "tonamel_participants = pd.read_csv(file_name)\n",
        "\n",
        "# 参加者一人ずつ確認していく\n",
        "for index, row in tonamel_participants.iterrows():\n",
        "\n",
        "    # URLからdeck{'id':'card_num'}を取得\n",
        "    num_per_cardid = encode_cardid_by_url(row[\"デッキURL\"])\n",
        "\n",
        "    # Deckにまとめる\n",
        "    deck = Deck(regulation=\"BASIC+60\")\n",
        "    for card_id, num in num_per_cardid.items():\n",
        "        try:\n",
        "            # 一致する行をndarray型で取得\n",
        "            # Todo: 各要素の先頭になぜか空白が入る問題の修正\n",
        "            card_detail = dmps_card_db.query(\"id==@card_id\").to_numpy(copy=True).flatten()\n",
        "            if len(card_detail) == 0: # dbと一致しなかった\n",
        "                raise Exception(card_id + \"と一致するカードがdbにありません。\")\n",
        "            else: # 正常系\n",
        "                card = np.insert(arr=card_detail, obj=1, values=num)\n",
        "                deck.set_card(card)\n",
        "        except Exception as e:\n",
        "            print(\"エラーが発生しました\")\n",
        "            print(e)\n",
        "            print()\n",
        "\n",
        "    # 結果出力\n",
        "    # 誰？\n",
        "    print(index)\n",
        "    print(\"アカウント名\\t= \", row[\"アカウント名\"])\n",
        "    print(\"デッキURL\\t= \", row[\"デッキURL\"])\n",
        "    # 情報\n",
        "    deck.is_pass_validate\n",
        "    deck.print_all()\n",
        "    print()"
      ],
      "execution_count": 72,
      "outputs": [
        {
          "output_type": "stream",
          "text": [
            "参加者一覧のcsvファイルをアップロードしてください。\n"
          ],
          "name": "stdout"
        },
        {
          "output_type": "display_data",
          "data": {
            "text/html": [
              "\n",
              "     <input type=\"file\" id=\"files-171a7add-f3d0-41c4-acec-5073b667f8f0\" name=\"files[]\" multiple disabled />\n",
              "     <output id=\"result-171a7add-f3d0-41c4-acec-5073b667f8f0\">\n",
              "      Upload widget is only available when the cell has been executed in the\n",
              "      current browser session. Please rerun this cell to enable.\n",
              "      </output>\n",
              "      <script src=\"/nbextensions/google.colab/files.js\"></script> "
            ],
            "text/plain": [
              "<IPython.core.display.HTML object>"
            ]
          },
          "metadata": {
            "tags": []
          }
        },
        {
          "output_type": "stream",
          "text": [
            "Saving EntryInfo_20200512155446.csv to EntryInfo_20200512155446 (6).csv\n",
            "EntryInfo_20200512155446.csv\n",
            "0\n",
            "アカウント名\t=  op4o_u\n",
            "デッキURL\t=  https://dmps.takaratomy.co.jp/deckbuilder/deck/?c=GIAC.GIAC.GIAC.GIAC.PUAC.PUAC.PUAC.PUAC.GIAT.GIAT.GIAT.GIAT.PUBZ.PUBZ.PUBZ.PUBZ.PUAB.PUAB.PUAB.PUAB.ZAAO.ZAAO.ZAAO.ZAAO.ZAAC.ZAAC.MQAD.MQAD.MQAD.AAAD.AAAD.AAAD.AAAD.PUAD.PUAD.DEBZ.DEBZ.PUBU.MQAC.MQAC&k=MQAC\n",
            "カード枚数: 40\n",
            "[4 'スパイラル・スライダー' ' 呪文' ' ' ' BASIC' 2 ' 水' ' ' ' 呪文']\n",
            "[4 'ブラッディ・イヤリング' ' ブレインジャッカー' ' ' ' BASIC' 2 ' 闇' ' ' ' クリーチャー']\n",
            "[4 'ゴースト・タッチ' ' 呪文' ' ' ' C' 2 ' 闇' ' ' ' 呪文']\n",
            "[4 '腐敗電脳メルニア' ' リキッド・ピープル' ' ゴースト' ' UC' 2 ' 水' ' 闇' ' クリーチャー']\n",
            "[4 'アクア・ハルカス' ' リキッド・ピープル' ' ' ' BASIC' 3 ' 水' ' ' ' クリーチャー']\n",
            "[4 'エナジー・ライト' ' 呪文' ' ' ' C' 3 ' 水' ' ' ' 呪文']\n",
            "[2 '卵胞虫ゼリー・ワーム' ' パラサイトワーム' ' ' ' BASIC' 3 ' 闇' ' ' ' クリーチャー']\n",
            "[3 'ファントム・バイツ' ' 呪文' ' ' ' BASIC' 3 ' 闇' ' ' ' 呪文']\n",
            "[4 '汽車男' ' ヘドリアン' ' ' ' BASIC' 4 ' 闇' ' ' ' クリーチャー']\n",
            "[2 'デス・スモーク' ' 呪文' ' ' ' BASIC' 4 ' 闇' ' ' ' 呪文']\n",
            "[2 '腐敗電脳アクアポインター' ' リキッド・ピープル' ' ゴースト' ' R' 5 ' 水' ' 闇' ' クリーチャー']\n",
            "[1 '邪悪の魔黒デビル・マーシャル' ' ゴースト' ' ' ' VR' 6 ' 闇' ' ' ' クリーチャー']\n",
            "[2 'クリスタル・ジャベリン' ' リキッド・ピープル' ' ' ' BASIC' 7 ' 水' ' ' ' クリーチャー']\n",
            "\n",
            "エラーが発生しました\n",
            "GI81と一致するカードがdbにありません。\n",
            "\n",
            "エラーが発生しました\n",
            "JM99と一致するカードがdbにありません。\n",
            "\n",
            "1\n",
            "アカウント名\t=  プレイヤー1\n",
            "デッキURL\t=  https://dmps.takaratomy.co.jp/deckbuilder/deck/?c=JMAB.JMAB.JMAB.JMAB.GI81.GI81.JM99.JM99.JM99.JM99.AAAB.AAAB.AAAB.AAAB.MQAB.MQAB.MQAB.MQAB.GIAC.GIAC.GIAC.GIAC.SYAC.SYAC.SYAC.SYAC.4EAD.4EAD.4EAD.4EAD.ZAAD.ZAAD.ZAAD.ZAAD.AAAE.AAAE.AAAE.AAAE.PUBZ.AAB2&k=GI81\n",
            "カード枚数: 34\n",
            "[4 'アクア・ガード' ' リキッド・ピープル' ' ' ' BASIC' 1 ' 水' ' ' ' クリーチャー']\n",
            "[4 'ソーラー・レイ' ' 呪文' ' ' ' BASIC' 2 ' 光' ' ' ' 呪文']\n",
            "[4 'アクア・ビーグル' ' リキッド・ピープル' ' ' ' BASIC' 2 ' 水' ' ' ' クリーチャー']\n",
            "[4 'スパイラル・スライダー' ' 呪文' ' ' ' BASIC' 2 ' 水' ' ' ' 呪文']\n",
            "[4 '臓裂虫テンタイク・ワーム' ' パラサイトワーム' ' ' ' BASIC' 2 ' 闇' ' ' ' クリーチャー']\n",
            "[4 'クック・ポロン' ' ファイアー・バード' ' ' ' BASIC' 2 ' 火' ' ' ' クリーチャー']\n",
            "[4 '喧嘩屋タイラー' ' ヒューマノイド' ' ' ' BASIC' 2 ' 火' ' ' ' クリーチャー']\n",
            "[4 '双神兵カミカゼ' ' アーマロイド' ' ' ' BASIC' 2 ' 火' ' ' ' クリーチャー']\n",
            "[1 '腐敗電脳メルニア' ' リキッド・ピープル' ' ゴースト' ' UC' 2 ' 水' ' 闇' ' クリーチャー']\n",
            "[1 '無頼勇騎ゴンタ' ' ヒューマノイド' ' ビーストフォーク' ' C' 2 ' 火' ' 自然' ' クリーチャー']\n",
            "\n",
            "エラーが発生しました\n",
            "GI98と一致するカードがdbにありません。\n",
            "\n",
            "エラーが発生しました\n",
            "JM99と一致するカードがdbにありません。\n",
            "\n",
            "2\n",
            "アカウント名\t=  プレイヤー2\n",
            "デッキURL\t=  https://dmps.takaratomy.co.jp/deckbuilder/deck/?c=JMAB.JMAB.JMAB.JMAB.GI98.GI98.JM99.JM99.JM99.JM99.MQAB.MQAB.MQAB.MQAB.GIAC.GIAC.GIAC.GIAC.SYAC.SYAC.SYAC.SYAC.4EAD.4EAD.4EAD.4EAD.ZAAD.ZAAD.ZAAD.ZAAD.AAAE.AAAE.AAAE.AAAE.PUBZ.AAB2.GIAH.GIBS.MQBS.MQBS&k=GI98\n",
            "カード枚数: 34\n",
            "[4 'アクア・ガード' ' リキッド・ピープル' ' ' ' BASIC' 1 ' 水' ' ' ' クリーチャー']\n",
            "[4 'アクア・ビーグル' ' リキッド・ピープル' ' ' ' BASIC' 2 ' 水' ' ' ' クリーチャー']\n",
            "[4 'スパイラル・スライダー' ' 呪文' ' ' ' BASIC' 2 ' 水' ' ' ' 呪文']\n",
            "[4 '臓裂虫テンタイク・ワーム' ' パラサイトワーム' ' ' ' BASIC' 2 ' 闇' ' ' ' クリーチャー']\n",
            "[4 'クック・ポロン' ' ファイアー・バード' ' ' ' BASIC' 2 ' 火' ' ' ' クリーチャー']\n",
            "[4 '喧嘩屋タイラー' ' ヒューマノイド' ' ' ' BASIC' 2 ' 火' ' ' ' クリーチャー']\n",
            "[4 '双神兵カミカゼ' ' アーマロイド' ' ' ' BASIC' 2 ' 火' ' ' ' クリーチャー']\n",
            "[1 '腐敗電脳メルニア' ' リキッド・ピープル' ' ゴースト' ' UC' 2 ' 水' ' 闇' ' クリーチャー']\n",
            "[1 '無頼勇騎ゴンタ' ' ヒューマノイド' ' ビーストフォーク' ' C' 2 ' 火' ' 自然' ' クリーチャー']\n",
            "[1 '青嵐の精霊バルキア' ' エンジェル・コマンド' ' ' ' R' 5 ' 光' ' ' ' クリーチャー']\n",
            "[1 '予言者リク' ' ライトブリンガー' ' ' ' R' 5 ' 光' ' ' ' クリーチャー']\n",
            "[2 'ゲット・レディ' ' 呪文' ' ' ' UC' 5 ' 光' ' ' ' 呪文']\n",
            "\n",
            "エラーが発生しました\n",
            "GI19と一致するカードがdbにありません。\n",
            "\n",
            "エラーが発生しました\n",
            "JM91と一致するカードがdbにありません。\n",
            "\n",
            "3\n",
            "アカウント名\t=  プレイヤー3\n",
            "デッキURL\t=  https://dmps.takaratomy.co.jp/deckbuilder/deck/?c=JMAB.JMAB.JMAB.JMAB.GI19.GI19.JM91.JM91.JM91.JM91.MQAB.MQAB.MQAB.MQAB.GIAC.GIAC.GIAC.GIAC.SYAC.SYAC.PUBI.SYAV.4EAD.4EAD.4EAD.4EAD.ZAAD.ZAAD.ZAAD.ZAAD.AAAE.AAAE.AAAE.AAAE.PUBZ.AAB2.GIAH.GIBS.MQBS.MQBS&k=GI19\n",
            "カード枚数: 34\n",
            "[4 'アクア・ガード' ' リキッド・ピープル' ' ' ' BASIC' 1 ' 水' ' ' ' クリーチャー']\n",
            "[4 'アクア・ビーグル' ' リキッド・ピープル' ' ' ' BASIC' 2 ' 水' ' ' ' クリーチャー']\n",
            "[4 'スパイラル・スライダー' ' 呪文' ' ' ' BASIC' 2 ' 水' ' ' ' 呪文']\n",
            "[2 '臓裂虫テンタイク・ワーム' ' パラサイトワーム' ' ' ' BASIC' 2 ' 闇' ' ' ' クリーチャー']\n",
            "[1 'ピーカプのドライバー' ' ゼノパーツ' ' ' ' R' 2 ' 火' ' ' ' クリーチャー']\n",
            "[1 'リッピ・ポルタ' ' ファイアー・バード' ' ' ' UC' 2 ' 火' ' ' ' クリーチャー']\n",
            "[4 'クック・ポロン' ' ファイアー・バード' ' ' ' BASIC' 2 ' 火' ' ' ' クリーチャー']\n",
            "[4 '喧嘩屋タイラー' ' ヒューマノイド' ' ' ' BASIC' 2 ' 火' ' ' ' クリーチャー']\n",
            "[4 '双神兵カミカゼ' ' アーマロイド' ' ' ' BASIC' 2 ' 火' ' ' ' クリーチャー']\n",
            "[1 '腐敗電脳メルニア' ' リキッド・ピープル' ' ゴースト' ' UC' 2 ' 水' ' 闇' ' クリーチャー']\n",
            "[1 '無頼勇騎ゴンタ' ' ヒューマノイド' ' ビーストフォーク' ' C' 2 ' 火' ' 自然' ' クリーチャー']\n",
            "[1 '青嵐の精霊バルキア' ' エンジェル・コマンド' ' ' ' R' 5 ' 光' ' ' ' クリーチャー']\n",
            "[1 '予言者リク' ' ライトブリンガー' ' ' ' R' 5 ' 光' ' ' ' クリーチャー']\n",
            "[2 'ゲット・レディ' ' 呪文' ' ' ' UC' 5 ' 光' ' ' ' 呪文']\n",
            "\n"
          ],
          "name": "stdout"
        }
      ]
    },
    {
      "cell_type": "markdown",
      "metadata": {
        "id": "LphUq5YuNQlw",
        "colab_type": "text"
      },
      "source": [
        "ファイル名を取得"
      ]
    },
    {
      "cell_type": "code",
      "metadata": {
        "id": "CJtVGGMgGQ7K",
        "colab_type": "code",
        "colab": {
          "base_uri": "https://localhost:8080/",
          "height": 435
        },
        "outputId": "53c554c5-24a2-4c26-8229-39c53adc749f"
      },
      "source": [
        "import glob\n",
        "glob.glob('dmps_tournament_assist/dmps_cards/*/*.csv')"
      ],
      "execution_count": 56,
      "outputs": [
        {
          "output_type": "execute_result",
          "data": {
            "text/plain": [
              "['dmps_tournament_assist/dmps_cards/series3/series3_green_20200515.csv',\n",
              " 'dmps_tournament_assist/dmps_cards/series3/series3_black_20200515.csv',\n",
              " 'dmps_tournament_assist/dmps_cards/series3/series3_blue_20200515.csv',\n",
              " 'dmps_tournament_assist/dmps_cards/series3/series3_white_20200515.csv',\n",
              " 'dmps_tournament_assist/dmps_cards/series3/series3_rainbow_20200513.csv',\n",
              " 'dmps_tournament_assist/dmps_cards/series3/series3_red_20200515.csv',\n",
              " 'dmps_tournament_assist/dmps_cards/prize/prize_20200513.csv',\n",
              " 'dmps_tournament_assist/dmps_cards/series2/series2_black_20200513.csv',\n",
              " 'dmps_tournament_assist/dmps_cards/series2/series2_blue_20200513.csv',\n",
              " 'dmps_tournament_assist/dmps_cards/series2/series2_red_20200513.csv',\n",
              " 'dmps_tournament_assist/dmps_cards/series2/series2_white_20200513.csv',\n",
              " 'dmps_tournament_assist/dmps_cards/series2/series2_green_20200513.csv',\n",
              " 'dmps_tournament_assist/dmps_cards/series1/series1_white_20200513.csv',\n",
              " 'dmps_tournament_assist/dmps_cards/series1/series1_blue_20200513.csv',\n",
              " 'dmps_tournament_assist/dmps_cards/series1/series1_green_20200513.csv',\n",
              " 'dmps_tournament_assist/dmps_cards/series1/series1_red_20200513.csv',\n",
              " 'dmps_tournament_assist/dmps_cards/series1/series1_black_20200513.csv',\n",
              " 'dmps_tournament_assist/dmps_cards/basic/basic_black_20200513.csv',\n",
              " 'dmps_tournament_assist/dmps_cards/basic/basic_red_20200513.csv',\n",
              " 'dmps_tournament_assist/dmps_cards/basic/basic_green_20200513.csv',\n",
              " 'dmps_tournament_assist/dmps_cards/basic/basic_blue_20200513.csv',\n",
              " 'dmps_tournament_assist/dmps_cards/basic/basic_white_20200513.csv',\n",
              " 'dmps_tournament_assist/dmps_cards/secret/secret_20200513.csv']"
            ]
          },
          "metadata": {
            "tags": []
          },
          "execution_count": 56
        }
      ]
    }
  ]
}